{
 "cells": [
  {
   "cell_type": "code",
   "execution_count": 1,
   "metadata": {},
   "outputs": [],
   "source": [
    "#创建SparkSession\n",
    "from pyspark.sql import SparkSession\n",
    "from pyspark import SparkContext\n",
    "from pyspark.sql import SQLContext\n",
    "spark = SparkSession.builder.appName('data_processing').getOrCreate()"
   ]
  },
  {
   "cell_type": "code",
   "execution_count": 2,
   "metadata": {},
   "outputs": [],
   "source": [
    "#读入数据\n",
    "# df = spark.read.csv('C:/Users/REGGIE/Desktop/student/数据分析资料/Spark学习/data/telecom_churn.csv',inferSchema=True,header=True)"
   ]
  },
  {
   "cell_type": "code",
   "execution_count": 3,
   "metadata": {},
   "outputs": [],
   "source": [
    "import pandas as pd\n",
    "import numpy as np\n",
    "import seaborn as sns\n",
    "import matplotlib.pyplot as plt"
   ]
  },
  {
   "cell_type": "code",
   "execution_count": 4,
   "metadata": {},
   "outputs": [],
   "source": [
    "df = pd.read_csv('C:/Users/REGGIE/Desktop/student/数据分析资料/Spark学习/data/telecom_churn.csv')"
   ]
  },
  {
   "cell_type": "code",
   "execution_count": 5,
   "metadata": {},
   "outputs": [],
   "source": [
    "# # 首先进行自变量与因变量之间的关系\n",
    "# df.columns\n",
    "# df.churn.value_counts()\n",
    "# #分类变量与分类变量\n",
    "# sns.boxplot(x = 'gender', y = 'churn',data = df)\n",
    "\n",
    "# #分类变量与连续变量\n",
    "# plt.figure(figsize=(20,5))\n",
    "\n",
    "# df.churn.groupby(df.AGE).sum().plot(kind = 'bar')"
   ]
  },
  {
   "cell_type": "code",
   "execution_count": 6,
   "metadata": {},
   "outputs": [],
   "source": [
    "# #分类变量与分类变量\n",
    "# #交叉表\n",
    "# pd.crosstab(df.edu_class,df.churn).plot(kind = 'bar')"
   ]
  },
  {
   "cell_type": "code",
   "execution_count": 7,
   "metadata": {},
   "outputs": [
    {
     "data": {
      "text/html": [
       "<div>\n",
       "<style scoped>\n",
       "    .dataframe tbody tr th:only-of-type {\n",
       "        vertical-align: middle;\n",
       "    }\n",
       "\n",
       "    .dataframe tbody tr th {\n",
       "        vertical-align: top;\n",
       "    }\n",
       "\n",
       "    .dataframe thead th {\n",
       "        text-align: right;\n",
       "    }\n",
       "</style>\n",
       "<table border=\"1\" class=\"dataframe\">\n",
       "  <thead>\n",
       "    <tr style=\"text-align: right;\">\n",
       "      <th>churn</th>\n",
       "      <th>0.0</th>\n",
       "      <th>1.0</th>\n",
       "      <th>All</th>\n",
       "    </tr>\n",
       "    <tr>\n",
       "      <th>posTrend</th>\n",
       "      <th></th>\n",
       "      <th></th>\n",
       "      <th></th>\n",
       "    </tr>\n",
       "  </thead>\n",
       "  <tbody>\n",
       "    <tr>\n",
       "      <td>0.0</td>\n",
       "      <td>829</td>\n",
       "      <td>990</td>\n",
       "      <td>1819</td>\n",
       "    </tr>\n",
       "    <tr>\n",
       "      <td>1.0</td>\n",
       "      <td>1100</td>\n",
       "      <td>544</td>\n",
       "      <td>1644</td>\n",
       "    </tr>\n",
       "    <tr>\n",
       "      <td>All</td>\n",
       "      <td>1929</td>\n",
       "      <td>1534</td>\n",
       "      <td>3463</td>\n",
       "    </tr>\n",
       "  </tbody>\n",
       "</table>\n",
       "</div>"
      ],
      "text/plain": [
       "churn      0.0   1.0   All\n",
       "posTrend                  \n",
       "0.0        829   990  1819\n",
       "1.0       1100   544  1644\n",
       "All       1929  1534  3463"
      ]
     },
     "execution_count": 7,
     "metadata": {},
     "output_type": "execute_result"
    }
   ],
   "source": [
    "# ##  分类变量的相关关系\n",
    "#\n",
    "# 交叉表\n",
    "#两变量分析：检验该用户通话时长是否呈现出上升态势(posTrend)对流失(churn) 是否有预测价值\n",
    "cross_table = pd.crosstab(df.posTrend, df.churn, margins=True)\n",
    "cross_table\n",
    "#呈现上升趋势的时候流失客户较少，所以有预测价值"
   ]
  },
  {
   "cell_type": "code",
   "execution_count": 8,
   "metadata": {},
   "outputs": [
    {
     "name": "stdout",
     "output_type": "stream",
     "text": [
      "duration \t 1.1651943339038737\n",
      "AGE \t 1.0595356320253755\n",
      "edu_class \t 1.0960381728685262\n",
      "posTrend \t 11.071390844640687\n",
      "negTrend \t 10.965934864380682\n",
      "nrProm \t 10.940661958600174\n",
      "prom \t 10.991026222137762\n",
      "curPlan \t 242.49161771953592\n",
      "avgplan \t 239.39277858354083\n",
      "planChange \t 3.2381781601285033\n",
      "incomeCode \t 1.0283743532179408\n",
      "feton \t 1.0367197705077769\n",
      "peakMinAv \t 1.2493847445837658\n",
      "peakMinDiff \t 1.732123838870938\n",
      "call_10086 \t 1.0242622323807176\n"
     ]
    }
   ],
   "source": [
    "candidates = ['churn','duration','AGE','edu_class','posTrend','negTrend','nrProm','prom','curPlan','avgplan','planChange','incomeCode','feton','peakMinAv','peakMinDiff','call_10086']\n",
    "data_for_select = df[candidates]\n",
    "#%%\n",
    "def vif(df, col_i):\n",
    "    from statsmodels.formula.api import ols\n",
    "    \n",
    "    cols = list(df.columns)\n",
    "    cols.remove(col_i)\n",
    "    cols_noti = cols\n",
    "    formula = col_i + '~' + '+'.join(cols_noti)\n",
    "    r2 = ols(formula, df).fit().rsquared\n",
    "    return 1. / (1. - r2)\n",
    "\n",
    "exog = df[candidates].drop(['churn'], axis=1)\n",
    "\n",
    "for i in exog.columns:\n",
    "    print(i, '\\t', vif(df=exog, col_i=i))"
   ]
  },
  {
   "cell_type": "code",
   "execution_count": 9,
   "metadata": {},
   "outputs": [],
   "source": [
    "#vif 大于10，并且两个变量之间的vif接近就代表具有强共线性\n",
    "#posTrend,negTrend;curPlan,avgplan,nrProm,prom有明显的共线性问题,剔除他们具有强共线性中的一个重新建模.\n",
    "#%%\n",
    "final_data = ['duration','AGE','edu_class','posTrend','nrProm','curPlan','planChange','incomeCode','feton','peakMinAv','peakMinDiff','call_10086','churn']\n",
    "data_for_select = df[final_data]"
   ]
  },
  {
   "cell_type": "code",
   "execution_count": 10,
   "metadata": {},
   "outputs": [],
   "source": [
    "#%%\n",
    "#先转化为spark——df\n",
    "sc = SparkContext.getOrCreate();\n",
    "sqlContest = SQLContext(sc)\n",
    "df = sqlContest.createDataFrame(data_for_select)"
   ]
  },
  {
   "cell_type": "code",
   "execution_count": 11,
   "metadata": {},
   "outputs": [
    {
     "name": "stdout",
     "output_type": "stream",
     "text": [
      "+--------------------+-----+\n",
      "|            features|label|\n",
      "+--------------------+-----+\n",
      "|[16.0,20.0,2.0,0....|  1.0|\n",
      "|[5.0,20.0,0.0,0.0...|  1.0|\n",
      "|[3.0,11.0,1.0,0.0...|  1.0|\n",
      "|[12.0,43.0,0.0,0....|  1.0|\n",
      "|[14.0,60.0,0.0,0....|  1.0|\n",
      "|[9.0,20.0,2.0,1.0...|  0.0|\n",
      "|[5.0,17.0,2.0,0.0...|  1.0|\n",
      "|[7.0,45.0,2.0,0.0...|  1.0|\n",
      "|[5.0,36.0,0.0,1.0...|  1.0|\n",
      "|[17.0,17.0,2.0,0....|  1.0|\n",
      "|[10.0,10.0,1.0,0....|  0.0|\n",
      "|[21.0,15.0,1.0,1....|  0.0|\n",
      "|[10.0,43.0,1.0,0....|  0.0|\n",
      "|[16.0,59.0,3.0,0....|  1.0|\n",
      "|[24.0,11.0,0.0,1....|  0.0|\n",
      "|[15.0,41.0,3.0,0....|  0.0|\n",
      "|[3.0,35.0,0.0,0.0...|  1.0|\n",
      "|[4.0,38.0,1.0,0.0...|  1.0|\n",
      "|[8.0,18.0,0.0,0.0...|  1.0|\n",
      "|[23.0,46.0,0.0,0....|  0.0|\n",
      "+--------------------+-----+\n",
      "only showing top 20 rows\n",
      "\n",
      "2606 857\n"
     ]
    }
   ],
   "source": [
    "#特征处理\n",
    "from pyspark.ml.linalg import Vectors, VectorUDT\n",
    "from pyspark.ml.linalg import Vectors\n",
    "data=df.rdd.map(lambda x:(Vectors.dense(x[0:-1]), x[-1])).toDF([\"features\", \"label\"])\n",
    "data.show()\n",
    "#随机抽样，建立训练集与测试集\n",
    "train_df,test_df=data.randomSplit([0.75,0.25])\n",
    "print(train_df.count(),test_df.count())"
   ]
  },
  {
   "cell_type": "code",
   "execution_count": 12,
   "metadata": {},
   "outputs": [
    {
     "name": "stdout",
     "output_type": "stream",
     "text": [
      "+--------------------+-----+\n",
      "|            features|label|\n",
      "+--------------------+-----+\n",
      "|[2.0,14.0,0.0,0.0...|  1.0|\n",
      "|[2.0,16.0,0.0,0.0...|  1.0|\n",
      "|[2.0,21.0,0.0,0.0...|  1.0|\n",
      "|[2.0,23.0,1.0,0.0...|  1.0|\n",
      "|[2.0,24.0,0.0,1.0...|  1.0|\n",
      "|[2.0,25.0,0.0,0.0...|  1.0|\n",
      "|[2.0,27.0,0.0,1.0...|  1.0|\n",
      "|[2.0,34.0,0.0,0.0...|  1.0|\n",
      "|[2.0,38.0,1.0,0.0...|  1.0|\n",
      "|[2.0,39.0,0.0,0.0...|  1.0|\n",
      "|[2.0,46.0,0.0,0.0...|  1.0|\n",
      "|[3.0,11.0,1.0,0.0...|  1.0|\n",
      "|[3.0,14.0,0.0,0.0...|  1.0|\n",
      "|[3.0,14.0,0.0,1.0...|  1.0|\n",
      "|[3.0,14.0,2.0,0.0...|  1.0|\n",
      "|[3.0,14.0,3.0,1.0...|  1.0|\n",
      "|[3.0,21.0,0.0,1.0...|  1.0|\n",
      "|[3.0,21.0,1.0,1.0...|  1.0|\n",
      "|[3.0,24.0,1.0,0.0...|  1.0|\n",
      "|[3.0,28.0,1.0,0.0...|  1.0|\n",
      "+--------------------+-----+\n",
      "only showing top 20 rows\n",
      "\n"
     ]
    }
   ],
   "source": [
    "train_df.show()"
   ]
  },
  {
   "cell_type": "code",
   "execution_count": 14,
   "metadata": {},
   "outputs": [],
   "source": [
    "# 逻辑回归\n",
    "from pyspark.ml.classification import LogisticRegression\n",
    "blor = LogisticRegression(regParam=0.01,labelCol='label')\n",
    "blorModel = blor.fit(train_df)"
   ]
  },
  {
   "cell_type": "code",
   "execution_count": 15,
   "metadata": {},
   "outputs": [
    {
     "name": "stdout",
     "output_type": "stream",
     "text": [
      "+--------------------+-----+--------------------+--------------------+----------+\n",
      "|            features|label|       rawPrediction|         probability|prediction|\n",
      "+--------------------+-----+--------------------+--------------------+----------+\n",
      "|[2.0,32.0,1.0,1.0...|  1.0|[-1.8601856911800...|[0.13468140960162...|       1.0|\n",
      "|[3.0,13.0,2.0,0.0...|  1.0|[-2.9083479808733...|[0.05174243203808...|       1.0|\n",
      "|[3.0,15.0,0.0,0.0...|  1.0|[-0.9046850401154...|[0.28808867252879...|       1.0|\n",
      "|[3.0,19.0,1.0,0.0...|  1.0|[-1.9696358822105...|[0.12242800203688...|       1.0|\n",
      "|[3.0,20.0,0.0,1.0...|  1.0|[-0.5637585336258...|[0.36267825436630...|       1.0|\n",
      "|[3.0,22.0,0.0,1.0...|  1.0|[-1.1648214977410...|[0.23779229807914...|       1.0|\n",
      "|[3.0,25.0,0.0,0.0...|  1.0|[-3.7763584161695...|[0.02239302019698...|       1.0|\n",
      "|[3.0,35.0,0.0,0.0...|  1.0|[-0.9292057274389...|[0.28308588296988...|       1.0|\n",
      "|[3.0,35.0,0.0,1.0...|  1.0|[-1.2929084349431...|[0.21536093487834...|       1.0|\n",
      "|[3.0,39.0,0.0,0.0...|  1.0|[-1.5173080310354...|[0.17985826762554...|       1.0|\n",
      "|[3.0,42.0,1.0,0.0...|  1.0|[-1.3085848406837...|[0.21272374783509...|       1.0|\n",
      "|[4.0,16.0,0.0,0.0...|  1.0|[-2.7409726000446...|[0.06059851309403...|       1.0|\n",
      "|[4.0,24.0,2.0,1.0...|  1.0|[-2.2356033108154...|[0.09659854883912...|       1.0|\n",
      "|[4.0,30.0,1.0,0.0...|  1.0|[-2.8740507920993...|[0.05345133394752...|       1.0|\n",
      "|[4.0,39.0,1.0,1.0...|  1.0|[-1.4750167463128...|[0.18618129052340...|       1.0|\n",
      "|[4.0,41.0,1.0,1.0...|  1.0|[-1.1363974302034...|[0.24298241101803...|       1.0|\n",
      "|[5.0,11.0,1.0,0.0...|  1.0|[-3.4273600960704...|[0.03145124978968...|       1.0|\n",
      "|[5.0,25.0,1.0,0.0...|  1.0|[-2.1668600052848...|[0.10276619670173...|       1.0|\n",
      "|[5.0,36.0,0.0,1.0...|  1.0|[-0.7388723082234...|[0.32325078810741...|       1.0|\n",
      "|[6.0,12.0,0.0,0.0...|  1.0|[-2.7458576435595...|[0.06032102166459...|       1.0|\n",
      "+--------------------+-----+--------------------+--------------------+----------+\n",
      "only showing top 20 rows\n",
      "\n"
     ]
    }
   ],
   "source": [
    "#进行预测\n",
    "blorModel_predict=blorModel.transform(test_df)\n",
    "blorModel_predict.show()"
   ]
  },
  {
   "cell_type": "code",
   "execution_count": 16,
   "metadata": {},
   "outputs": [
    {
     "name": "stdout",
     "output_type": "stream",
     "text": [
      "+----------+-----+\n",
      "|prediction|count|\n",
      "+----------+-----+\n",
      "|       0.0|  457|\n",
      "|       1.0|  400|\n",
      "+----------+-----+\n",
      "\n",
      "+-----------------------------------------+-----+----------+\n",
      "|probability                              |label|prediction|\n",
      "+-----------------------------------------+-----+----------+\n",
      "|[0.13468140960162658,0.8653185903983736] |1.0  |1.0       |\n",
      "|[0.051742432038085956,0.948257567961914] |1.0  |1.0       |\n",
      "|[0.28808867252879,0.71191132747121]      |1.0  |1.0       |\n",
      "|[0.12242800203688628,0.8775719979631138] |1.0  |1.0       |\n",
      "|[0.362678254366309,0.637321745633691]    |1.0  |1.0       |\n",
      "|[0.2377922980791441,0.7622077019208559]  |1.0  |1.0       |\n",
      "|[0.022393020196987436,0.9776069798030126]|1.0  |1.0       |\n",
      "|[0.2830858829698819,0.716914117030118]   |1.0  |1.0       |\n",
      "|[0.21536093487834088,0.7846390651216592] |1.0  |1.0       |\n",
      "|[0.179858267625548,0.820141732374452]    |1.0  |1.0       |\n",
      "+-----------------------------------------+-----+----------+\n",
      "only showing top 10 rows\n",
      "\n"
     ]
    }
   ],
   "source": [
    "# 模型效果\n",
    "blorModel_predict.groupBy('prediction').count().show()\n",
    "blorModel_predict.select(['probability','label','prediction']).show(10,False)"
   ]
  },
  {
   "cell_type": "code",
   "execution_count": 17,
   "metadata": {},
   "outputs": [],
   "source": [
    "#模型摘要\n",
    "trainingSummary = blorModel.summary"
   ]
  },
  {
   "cell_type": "code",
   "execution_count": 18,
   "metadata": {},
   "outputs": [
    {
     "name": "stdout",
     "output_type": "stream",
     "text": [
      "Multinomial coefficients: DenseMatrix([[-1.86886066e-01, -2.16947785e-02,  2.12143560e-01,\n",
      "              -3.52630591e-01,  6.93617469e-02,  1.00287136e-01,\n",
      "              -2.78041212e-02,  9.79236285e-03, -9.75983391e-01,\n",
      "               3.70730947e-04, -2.02462897e-03, -6.07331296e-01]])\n",
      "Multinomial intercepts: [2.818890505165656]\n"
     ]
    }
   ],
   "source": [
    "print(\"Multinomial coefficients: \" + str(blorModel.coefficientMatrix))  #系数矩阵\n",
    "print(\"Multinomial intercepts: \" + str(blorModel.interceptVector))  #截距向量"
   ]
  },
  {
   "cell_type": "code",
   "execution_count": 19,
   "metadata": {},
   "outputs": [
    {
     "name": "stdout",
     "output_type": "stream",
     "text": [
      "objectiveHistory:\n",
      "0.6865062799266008\n",
      "0.6267714886603852\n",
      "0.5475460529873861\n",
      "0.4770905687981582\n",
      "0.4655025879639753\n",
      "0.4417862853094657\n",
      "0.42986537364100813\n",
      "0.42584437671581526\n",
      "0.42371353744469126\n",
      "0.4204761196522092\n",
      "0.4176510484782228\n",
      "0.4134370306355357\n",
      "0.4128490723323663\n",
      "0.4099030637454474\n",
      "0.40851853180649605\n",
      "0.4083631324946812\n",
      "0.40830669827946187\n",
      "0.408300164732556\n",
      "0.4082908944180581\n",
      "0.40827799979881785\n",
      "0.4082718898887562\n",
      "0.40827134540951443\n",
      "0.4082712529733043\n",
      "0.4082712382891198\n",
      "0.4082712378749407\n",
      "0.4082712377412185\n",
      "0.408271237528665\n",
      "0.40827123749026245\n",
      "0.40827123747502614\n",
      "0.4082712374602645\n",
      "0.40827123745953625\n",
      "0.40827123745609484\n",
      "+--------------------+--------------------+\n",
      "|                 FPR|                 TPR|\n",
      "+--------------------+--------------------+\n",
      "|                 0.0|                 0.0|\n",
      "|                 0.0|0.022549869904596703|\n",
      "|                 0.0|0.045099739809193407|\n",
      "|                 0.0| 0.06764960971379011|\n",
      "|6.882312456985547E-4| 0.08933217692974849|\n",
      "|6.882312456985547E-4| 0.11188204683434519|\n",
      "|6.882312456985547E-4|  0.1344319167389419|\n",
      "|6.882312456985547E-4|  0.1569817866435386|\n",
      "|6.882312456985547E-4|  0.1769297484822203|\n",
      "|0.001376462491397...| 0.19861231569817867|\n",
      "|0.003441156228492...| 0.21856027753686036|\n",
      "|0.005505849965588...| 0.23850823937554205|\n",
      "|0.006194081211286993| 0.26019080659150046|\n",
      "| 0.01032346868547832|  0.2775368603642671|\n",
      "| 0.01169993117687543|  0.2983521248915872|\n",
      "| 0.01307639366827254|  0.3191673894189072|\n",
      "|0.015141087405368204|  0.3391153512575889|\n",
      "|0.015829318651066758| 0.36079791847354725|\n",
      "|0.017894012388162423|  0.3738074588031223|\n",
      "| 0.01995870612525809| 0.39375542064180397|\n",
      "+--------------------+--------------------+\n",
      "only showing top 20 rows\n",
      "\n",
      "areaUnderROC: 0.9090045478177458\n"
     ]
    }
   ],
   "source": [
    "#在每次迭代中获取对象\n",
    "objectiveHistory = trainingSummary.objectiveHistory\n",
    "print(\"objectiveHistory:\")\n",
    "for objective in objectiveHistory:\n",
    "    print(objective)\n",
    "trainingSummary.roc.show()\n",
    "print(\"areaUnderROC: \" + str(trainingSummary.areaUnderROC))"
   ]
  },
  {
   "cell_type": "code",
   "execution_count": 20,
   "metadata": {},
   "outputs": [
    {
     "name": "stdout",
     "output_type": "stream",
     "text": [
      "Accuracy: 0.8158096699923254\n",
      "FPR: 0.1837656709449855\n",
      "TPR: 0.8158096699923254\n",
      "F-measure: 0.8162035642794699\n",
      "Precision: 0.8174635806846644\n",
      "Recall: 0.8158096699923254\n"
     ]
    }
   ],
   "source": [
    "#模型重要指标\n",
    "accuracy = trainingSummary.accuracy\n",
    "falsePositiveRate = trainingSummary.weightedFalsePositiveRate\n",
    "truePositiveRate = trainingSummary.weightedTruePositiveRate\n",
    "fMeasure = trainingSummary.weightedFMeasure()\n",
    "precision = trainingSummary.weightedPrecision\n",
    "recall = trainingSummary.weightedRecall\n",
    "print(\"Accuracy: %s\\nFPR: %s\\nTPR: %s\\nF-measure: %s\\nPrecision: %s\\nRecall: %s\"\n",
    "      % (accuracy, falsePositiveRate, truePositiveRate, fMeasure, precision, recall))"
   ]
  },
  {
   "cell_type": "code",
   "execution_count": 21,
   "metadata": {},
   "outputs": [],
   "source": [
    "#尝试使用sklearn中的逻辑回归\n",
    "import pandas as pd\n",
    "import numpy as np\n",
    "import os\n",
    "import matplotlib.pyplot as plt\n",
    "import seaborn as sns\n",
    "import statsmodels.api as sm\n",
    "import statsmodels.formula.api as smf\n",
    "from scipy import stats"
   ]
  },
  {
   "cell_type": "code",
   "execution_count": 22,
   "metadata": {},
   "outputs": [],
   "source": [
    "from sklearn.linear_model import LogisticRegression\n",
    "from sklearn.preprocessing import StandardScaler\n",
    "df = pd.read_csv('C:/Users/REGGIE/Desktop/student/数据分析资料/Spark学习/data/telecom_churn.csv')"
   ]
  },
  {
   "cell_type": "code",
   "execution_count": 23,
   "metadata": {},
   "outputs": [
    {
     "name": "stderr",
     "output_type": "stream",
     "text": [
      "C:\\ProgramData\\Anaconda3\\lib\\site-packages\\ipykernel_launcher.py:16: DeprecationWarning: Calling Family(..) with a link class as argument is deprecated.\n",
      "Use an instance of a link class instead.\n",
      "  app.launch_new_instance()\n"
     ]
    },
    {
     "name": "stdout",
     "output_type": "stream",
     "text": [
      "aic is 3036.3006938313874,continuing!\n",
      "aic is 2873.2351242989025,continuing!\n",
      "aic is 2766.544896842034,continuing!\n",
      "aic is 2704.939493661153,continuing!\n",
      "aic is 2660.232115098335,continuing!\n",
      "aic is 2616.7385945696665,continuing!\n",
      "aic is 2608.1534288330195,continuing!\n",
      "aic is 2601.7772457332803,continuing!\n",
      "aic is 2599.1387103247707,continuing!\n",
      "forward selection over!\n",
      "final formula is churn ~ duration + feton + peakMinDiff + call_10086 + edu_class + AGE + posTrend + incomeCode + curPlan \n"
     ]
    },
    {
     "name": "stderr",
     "output_type": "stream",
     "text": [
      "C:\\ProgramData\\Anaconda3\\lib\\site-packages\\ipykernel_launcher.py:34: DeprecationWarning: Calling Family(..) with a link class as argument is deprecated.\n",
      "Use an instance of a link class instead.\n"
     ]
    }
   ],
   "source": [
    "#使用向前逐步法从其它备选变量中选择变量，构建基于AIC的最优模型，绘制ROC曲线，同时检验模型的膨胀系数\n",
    "#- 多元逻辑回归\n",
    "# 向前法\n",
    "def forward_select(data, response):\n",
    "    remaining = set(data.columns)\n",
    "    remaining.remove(response)\n",
    "    selected = []\n",
    "    current_score, best_new_score = float('inf'), float('inf')\n",
    "    while remaining:\n",
    "        aic_with_candidates=[]\n",
    "        for candidate in remaining:\n",
    "            formula = \"{} ~ {}\".format(\n",
    "                response,' + '.join(selected + [candidate]))\n",
    "            aic = smf.glm(\n",
    "                formula=formula, data=data, \n",
    "                family=sm.families.Binomial(sm.families.links.logit)\n",
    "            ).fit().aic\n",
    "            aic_with_candidates.append((aic, candidate))\n",
    "        aic_with_candidates.sort(reverse=True)\n",
    "        best_new_score, best_candidate=aic_with_candidates.pop()\n",
    "        if current_score > best_new_score: \n",
    "            remaining.remove(best_candidate)\n",
    "            selected.append(best_candidate)\n",
    "            current_score = best_new_score\n",
    "            print ('aic is {},continuing!'.format(current_score))\n",
    "        else:        \n",
    "            print ('forward selection over!')\n",
    "            break\n",
    "            \n",
    "    formula = \"{} ~ {} \".format(response,' + '.join(selected))\n",
    "    print('final formula is {}'.format(formula))\n",
    "    model = smf.glm(\n",
    "        formula=formula, data=data, \n",
    "        family=sm.families.Binomial(sm.families.links.logit)\n",
    "    ).fit()\n",
    "    return(model)\n",
    "\n",
    "\n",
    "lg_m1 = forward_select(data=data_for_select, response='churn')\n",
    "# lg_m1.summary()"
   ]
  },
  {
   "cell_type": "code",
   "execution_count": 24,
   "metadata": {},
   "outputs": [],
   "source": [
    "final_data = ['duration','AGE','edu_class','posTrend','curPlan','incomeCode','feton','peakMinDiff','call_10086']"
   ]
  },
  {
   "cell_type": "code",
   "execution_count": 25,
   "metadata": {},
   "outputs": [],
   "source": [
    "from sklearn.model_selection import train_test_split\n",
    "X = df[final_data]\n",
    "y = df['churn']\n",
    "#随机抽样，建立训练集与测试集\n",
    "X_train, X_test, y_train, y_test = train_test_split(X,y, random_state=42) \n",
    "# print(X_train, X_test, y_train, y_test)"
   ]
  },
  {
   "cell_type": "code",
   "execution_count": 26,
   "metadata": {},
   "outputs": [],
   "source": [
    "# # 标准化\n",
    "# X_train_scaled = scaler.fit_transform(X_train)\n",
    "# X_test_scaled = scaler.fit_transform(X_test)"
   ]
  },
  {
   "cell_type": "code",
   "execution_count": 27,
   "metadata": {},
   "outputs": [
    {
     "data": {
      "text/plain": [
       "Pipeline(memory=None,\n",
       "         steps=[('standardscaler',\n",
       "                 StandardScaler(copy=True, with_mean=True, with_std=True)),\n",
       "                ('logisticregression',\n",
       "                 LogisticRegression(C=1.0, class_weight=None, dual=False,\n",
       "                                    fit_intercept=True, intercept_scaling=1,\n",
       "                                    l1_ratio=None, max_iter=100,\n",
       "                                    multi_class='auto', n_jobs=None,\n",
       "                                    penalty='l2', random_state=None,\n",
       "                                    solver='lbfgs', tol=0.0001, verbose=0,\n",
       "                                    warm_start=False))],\n",
       "         verbose=False)"
      ]
     },
     "execution_count": 27,
     "metadata": {},
     "output_type": "execute_result"
    }
   ],
   "source": [
    "#建立模型\n",
    "from sklearn.pipeline import make_pipeline\n",
    "scaler = StandardScaler()\n",
    "lr = LogisticRegression()\n",
    "lr_pipe = make_pipeline(scaler,lr)\n",
    "lr_pipe.fit(X_train, y_train)"
   ]
  },
  {
   "cell_type": "code",
   "execution_count": 28,
   "metadata": {},
   "outputs": [],
   "source": [
    "#Make predictions\n",
    "y_pred = lr_pipe.predict(X_test) \n",
    "#Save the prediction results to the dataframe\n",
    "df = pd.DataFrame(X_test) \n",
    "df['y_test']=y_test\n",
    "df['pred']=y_pred\n",
    "label = [0,1]"
   ]
  },
  {
   "cell_type": "code",
   "execution_count": 30,
   "metadata": {},
   "outputs": [],
   "source": [
    "# df"
   ]
  },
  {
   "cell_type": "code",
   "execution_count": 31,
   "metadata": {},
   "outputs": [
    {
     "name": "stdout",
     "output_type": "stream",
     "text": [
      "              precision    recall  f1-score   support\n",
      "\n",
      "           0       0.83      0.82      0.82       469\n",
      "           1       0.79      0.80      0.80       397\n",
      "\n",
      "    accuracy                           0.81       866\n",
      "   macro avg       0.81      0.81      0.81       866\n",
      "weighted avg       0.81      0.81      0.81       866\n",
      "\n"
     ]
    }
   ],
   "source": [
    "from sklearn import metrics\n",
    "print(metrics.classification_report(y_test, y_pred,labels=label))"
   ]
  },
  {
   "cell_type": "code",
   "execution_count": 32,
   "metadata": {},
   "outputs": [
    {
     "data": {
      "text/plain": [
       "0.8100787892133432"
      ]
     },
     "execution_count": 32,
     "metadata": {},
     "output_type": "execute_result"
    }
   ],
   "source": [
    "from sklearn.metrics import roc_auc_score\n",
    "roc_auc_score(y_test, y_pred)"
   ]
  },
  {
   "cell_type": "code",
   "execution_count": 33,
   "metadata": {},
   "outputs": [
    {
     "name": "stdout",
     "output_type": "stream",
     "text": [
      "[[383  86]\n",
      " [ 78 319]]\n"
     ]
    },
    {
     "data": {
      "image/png": "[encoded data removed]",
      "text/plain": [
       "<Figure size 432x288 with 1 Axes>"
      ]
     },
     "metadata": {},
     "output_type": "display_data"
    }
   ],
   "source": [
    "import seaborn as sns\n",
    "from sklearn.metrics import confusion_matrix\n",
    "\n",
    "sns.set()\n",
    "f,ax=plt.subplots()\n",
    "C2= confusion_matrix(y_test, y_pred, labels=[0, 1])\n",
    "print(C2) \n",
    "\n",
    "#Heat map\n",
    "sns.heatmap(C2,annot=True,ax=ax,cbar = None, cmap = 'Blues', fmt='g')\n",
    "bottom, top = ax.get_ylim()\n",
    "ax.set_ylim(bottom + 0.5, top - 0.5)\n",
    "ax.set_title('confusion matrix')\n",
    "ax.set_xlabel('predict')\n",
    "ax.set_ylabel('true')\n",
    "plt.show()"
   ]
  },
  {
   "cell_type": "code",
   "execution_count": 34,
   "metadata": {},
   "outputs": [
    {
     "name": "stderr",
     "output_type": "stream",
     "text": [
      "C:\\Users\\REGGIE\\AppData\\Roaming\\Python\\Python37\\site-packages\\sklearn\\externals\\joblib\\__init__.py:15: FutureWarning: sklearn.externals.joblib is deprecated in 0.21 and will be removed in 0.23. Please import this functionality directly from joblib, which can be installed with: pip install joblib. If this warning is raised when loading pickled models, you may need to re-serialize those models with scikit-learn 0.21+.\n",
      "  warnings.warn(msg, category=FutureWarning)\n"
     ]
    },
    {
     "data": {
      "text/plain": [
       "['lr_pipe.pkl']"
      ]
     },
     "execution_count": 34,
     "metadata": {},
     "output_type": "execute_result"
    }
   ],
   "source": [
    "from sklearn.externals import joblib\n",
    "# Save to sklearn's own file format\n",
    "joblib.dump(lr_pipe, 'lr_pipe.pkl')"
   ]
  },
  {
   "cell_type": "code",
   "execution_count": null,
   "metadata": {},
   "outputs": [],
   "source": []
  }
 ],
 "metadata": {
  "kernelspec": {
   "display_name": "Python 3",
   "language": "python",
   "name": "python3"
  },
  "language_info": {
   "codemirror_mode": {
    "name": "ipython",
    "version": 3
   },
   "file_extension": ".py",
   "mimetype": "text/x-python",
   "name": "python",
   "nbconvert_exporter": "python",
   "pygments_lexer": "ipython3",
   "version": "3.7.4"
  }
 },
 "nbformat": 4,
 "nbformat_minor": 2
}
