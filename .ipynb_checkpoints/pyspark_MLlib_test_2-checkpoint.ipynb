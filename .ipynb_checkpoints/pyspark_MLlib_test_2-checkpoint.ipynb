{
 "cells": [
  {
   "cell_type": "code",
   "execution_count": 1,
   "metadata": {},
   "outputs": [],
   "source": [
    "from pyspark.sql import SparkSession\n",
    "from pyspark.ml.clustering import KMeans\n",
    "from pyspark.ml.feature import StringIndexer\n",
    "from pyspark.ml.linalg import Vectors"
   ]
  },
  {
   "cell_type": "code",
   "execution_count": 2,
   "metadata": {},
   "outputs": [],
   "source": [
    "spark=SparkSession.builder.appName('data_processing').getOrCreate()\n",
    "df = spark.read.csv(r'C:\\Users\\REGGIE\\Desktop\\student\\数据分析资料\\Spark学习\\data\\profile_bank.csv',inferSchema=True,header=True)"
   ]
  },
  {
   "cell_type": "code",
   "execution_count": 3,
   "metadata": {},
   "outputs": [
    {
     "data": {
      "text/plain": [
       "DataFrame[ID: int, CNT_TBM: int, CNT_ATM: int, CNT_POS: int, CNT_CSC: int, CNT_TOT: int]"
      ]
     },
     "execution_count": 3,
     "metadata": {},
     "output_type": "execute_result"
    }
   ],
   "source": [
    "df"
   ]
  },
  {
   "cell_type": "code",
   "execution_count": 38,
   "metadata": {},
   "outputs": [],
   "source": [
    "#特征处理\n",
    "from pyspark.ml.linalg import Vectors, VectorUDT\n",
    "from pyspark.ml.linalg import Vectors\n",
    "\n",
    "from pyspark.ml.feature import VectorAssembler\n",
    "VectorAssembler = VectorAssembler(inputCols=[\"CNT_TBM\",\"CNT_ATM\",\"CNT_POS\",\"CNT_CSC\"],outputCol=\"features\")\n",
    "new_df=VectorAssembler.transform(df)"
   ]
  },
  {
   "cell_type": "code",
   "execution_count": 39,
   "metadata": {},
   "outputs": [],
   "source": [
    "#建立模型\n",
    "from pyspark.ml.clustering import KMeans\n",
    "from pyspark.ml.evaluation import ClusteringEvaluator\n",
    "kmeans=KMeans(k=4,seed=1)\n",
    "model=kmeans.fit(new_df.select('features'))\n",
    "predict = model.transform(new_df)\n",
    "centers=model.clusterCenters()\n",
    "#modelcost=model.computeCost()"
   ]
  },
  {
   "cell_type": "code",
   "execution_count": 40,
   "metadata": {},
   "outputs": [
    {
     "name": "stdout",
     "output_type": "stream",
     "text": [
      "+----------+\n",
      "|prediction|\n",
      "+----------+\n",
      "|         1|\n",
      "|         3|\n",
      "|         2|\n",
      "|         0|\n",
      "+----------+\n",
      "\n"
     ]
    }
   ],
   "source": [
    "#查看其分类结果\n",
    "predict.select('prediction').distinct().show()"
   ]
  },
  {
   "cell_type": "code",
   "execution_count": 41,
   "metadata": {},
   "outputs": [
    {
     "name": "stdout",
     "output_type": "stream",
     "text": [
      "Silhouette with squared euclidean distance = 0.6985935381289298\n",
      "Cluster Centers: \n",
      "[44.80981557 18.57897332 10.38080034  5.63666847]\n",
      "[1.4934e+04 5.7000e+01 2.0000e+00 2.3200e+02]\n",
      "[164.40445151  23.45802862  18.56136725  11.14674086]\n",
      "[4.74284615e+03 1.60769231e+01 2.00000000e+00 4.73846154e+01]\n"
     ]
    }
   ],
   "source": [
    "evaluator = ClusteringEvaluator()\n",
    "silhouette = evaluator.evaluate(predict)\n",
    "print(\"Silhouette with squared euclidean distance = \" + str(silhouette))\n",
    " \n",
    "# 打印中心点Shows the result.\n",
    "centers = model.clusterCenters()\n",
    "print(\"Cluster Centers: \")\n",
    "for center in centers:\n",
    "    print(center)"
   ]
  },
  {
   "cell_type": "code",
   "execution_count": null,
   "metadata": {},
   "outputs": [],
   "source": []
  },
  {
   "cell_type": "code",
   "execution_count": 36,
   "metadata": {},
   "outputs": [],
   "source": [
    "#sklearn中的kmeans"
   ]
  },
  {
   "cell_type": "code",
   "execution_count": 37,
   "metadata": {},
   "outputs": [
    {
     "data": {
      "text/html": [
       "<div>\n",
       "<style scoped>\n",
       "    .dataframe tbody tr th:only-of-type {\n",
       "        vertical-align: middle;\n",
       "    }\n",
       "\n",
       "    .dataframe tbody tr th {\n",
       "        vertical-align: top;\n",
       "    }\n",
       "\n",
       "    .dataframe thead th {\n",
       "        text-align: right;\n",
       "    }\n",
       "</style>\n",
       "<table border=\"1\" class=\"dataframe\">\n",
       "  <thead>\n",
       "    <tr style=\"text-align: right;\">\n",
       "      <th></th>\n",
       "      <th>CNT_TBM</th>\n",
       "      <th>CNT_ATM</th>\n",
       "      <th>CNT_POS</th>\n",
       "      <th>CNT_CSC</th>\n",
       "    </tr>\n",
       "  </thead>\n",
       "  <tbody>\n",
       "    <tr>\n",
       "      <td>0</td>\n",
       "      <td>34</td>\n",
       "      <td>3</td>\n",
       "      <td>3</td>\n",
       "      <td>9</td>\n",
       "    </tr>\n",
       "    <tr>\n",
       "      <td>1</td>\n",
       "      <td>44</td>\n",
       "      <td>17</td>\n",
       "      <td>5</td>\n",
       "      <td>18</td>\n",
       "    </tr>\n",
       "    <tr>\n",
       "      <td>2</td>\n",
       "      <td>122</td>\n",
       "      <td>26</td>\n",
       "      <td>32</td>\n",
       "      <td>36</td>\n",
       "    </tr>\n",
       "    <tr>\n",
       "      <td>3</td>\n",
       "      <td>42</td>\n",
       "      <td>3</td>\n",
       "      <td>6</td>\n",
       "      <td>1</td>\n",
       "    </tr>\n",
       "    <tr>\n",
       "      <td>4</td>\n",
       "      <td>20</td>\n",
       "      <td>15</td>\n",
       "      <td>2</td>\n",
       "      <td>2</td>\n",
       "    </tr>\n",
       "  </tbody>\n",
       "</table>\n",
       "</div>"
      ],
      "text/plain": [
       "   CNT_TBM  CNT_ATM  CNT_POS  CNT_CSC\n",
       "0       34        3        3        9\n",
       "1       44       17        5       18\n",
       "2      122       26       32       36\n",
       "3       42        3        6        1\n",
       "4       20       15        2        2"
      ]
     },
     "execution_count": 37,
     "metadata": {},
     "output_type": "execute_result"
    }
   ],
   "source": [
    "import pandas as pd\n",
    "model_data = pd.read_csv(r'C:\\Users\\REGGIE\\Desktop\\student\\数据分析资料\\Spark学习\\data\\profile_bank.csv')\n",
    "data = model_data.loc[ :,'CNT_TBM':'CNT_CSC']\n",
    "data.head()"
   ]
  },
  {
   "cell_type": "code",
   "execution_count": 45,
   "metadata": {},
   "outputs": [],
   "source": [
    "#做主成分之前，进行中心标准化\n",
    "from sklearn import preprocessing\n",
    "data = preprocessing.scale(data)"
   ]
  },
  {
   "cell_type": "code",
   "execution_count": 46,
   "metadata": {},
   "outputs": [
    {
     "name": "stdout",
     "output_type": "stream",
     "text": [
      "[1.60786876 1.00252275 0.7339482  0.65570029]\n",
      "[0.40196317 0.25062818 0.18348521 0.16392343]\n"
     ]
    }
   ],
   "source": [
    "#使用sklearn的主成分分析，用于判断保留主成分的数量\n",
    "from sklearn.decomposition import PCA\n",
    "'''说明：1、第一次的n_components参数应该设的大一点\n",
    "   说明：2、观察explained_variance_ratio_和explained_variance_的取值变化，建议explained_variance_ratio_累积大于0.85，explained_variance_需要保留的最后一个主成分大于0.8，\n",
    "'''\n",
    "pca=PCA(n_components=4)\n",
    "newData=pca.fit(data)\n",
    "print(pca.explained_variance_)\n",
    "print(pca.explained_variance_ratio_)"
   ]
  },
  {
   "cell_type": "code",
   "execution_count": 47,
   "metadata": {},
   "outputs": [
    {
     "data": {
      "text/html": [
       "<div>\n",
       "<style scoped>\n",
       "    .dataframe tbody tr th:only-of-type {\n",
       "        vertical-align: middle;\n",
       "    }\n",
       "\n",
       "    .dataframe tbody tr th {\n",
       "        vertical-align: top;\n",
       "    }\n",
       "\n",
       "    .dataframe thead th {\n",
       "        text-align: right;\n",
       "    }\n",
       "</style>\n",
       "<table border=\"1\" class=\"dataframe\">\n",
       "  <thead>\n",
       "    <tr style=\"text-align: right;\">\n",
       "      <th></th>\n",
       "      <th>0</th>\n",
       "      <th>1</th>\n",
       "      <th>2</th>\n",
       "      <th>3</th>\n",
       "    </tr>\n",
       "  </thead>\n",
       "  <tbody>\n",
       "    <tr>\n",
       "      <td>0</td>\n",
       "      <td>0.303020</td>\n",
       "      <td>0.834245</td>\n",
       "      <td>0.445132</td>\n",
       "      <td>0.118622</td>\n",
       "    </tr>\n",
       "    <tr>\n",
       "      <td>1</td>\n",
       "      <td>0.555131</td>\n",
       "      <td>-0.377566</td>\n",
       "      <td>0.135542</td>\n",
       "      <td>0.728630</td>\n",
       "    </tr>\n",
       "    <tr>\n",
       "      <td>2</td>\n",
       "      <td>0.559520</td>\n",
       "      <td>-0.315486</td>\n",
       "      <td>0.386716</td>\n",
       "      <td>-0.661708</td>\n",
       "    </tr>\n",
       "    <tr>\n",
       "      <td>3</td>\n",
       "      <td>0.535673</td>\n",
       "      <td>0.248894</td>\n",
       "      <td>-0.796201</td>\n",
       "      <td>-0.131035</td>\n",
       "    </tr>\n",
       "  </tbody>\n",
       "</table>\n",
       "</div>"
      ],
      "text/plain": [
       "          0         1         2         3\n",
       "0  0.303020  0.834245  0.445132  0.118622\n",
       "1  0.555131 -0.377566  0.135542  0.728630\n",
       "2  0.559520 -0.315486  0.386716 -0.661708\n",
       "3  0.535673  0.248894 -0.796201 -0.131035"
      ]
     },
     "execution_count": 47,
     "metadata": {},
     "output_type": "execute_result"
    }
   ],
   "source": [
    "#通过主成分在每个变量上的权重的绝对值大小，确定每个主成分的代表性\n",
    "pd.DataFrame(pca.components_).T"
   ]
  },
  {
   "cell_type": "code",
   "execution_count": 49,
   "metadata": {},
   "outputs": [],
   "source": [
    "## 第二步：根据主成分分析确定需要保留的主成分数量，进行因子分析\n",
    "# - 1、导入包，并对输入的数据进行主成分提取。为保险起见，data需要进行中心标准化\n",
    "from fa_kit import FactorAnalysis\n",
    "from fa_kit import plotting as fa_plotting\n",
    "fa = FactorAnalysis.load_data_samples(\n",
    "        data,\n",
    "        preproc_demean=True,\n",
    "        preproc_scale=True\n",
    "        )\n",
    "fa.extract_components()"
   ]
  },
  {
   "cell_type": "code",
   "execution_count": 50,
   "metadata": {},
   "outputs": [
    {
     "data": {
      "text/plain": [
       "array([0, 1, 2], dtype=int64)"
      ]
     },
     "execution_count": 50,
     "metadata": {},
     "output_type": "execute_result"
    }
   ],
   "source": [
    "# 设定提取主成分的方式。默认为“broken_stick”方法，建议使用“top_n”法\n",
    "fa.find_comps_to_retain(method='top_n',num_keep=3)"
   ]
  },
  {
   "cell_type": "code",
   "execution_count": 63,
   "metadata": {},
   "outputs": [
    {
     "data": {
      "image/png": "[encoded data removed]",
      "text/plain": [
       "<Figure size 576x864 with 3 Axes>"
      ]
     },
     "execution_count": 63,
     "metadata": {},
     "output_type": "execute_result"
    },
    {
     "data": {
      "image/png": "[encoded data removed]",
      "text/plain": [
       "<Figure size 576x864 with 3 Axes>"
      ]
     },
     "metadata": {
      "needs_background": "light"
     },
     "output_type": "display_data"
    }
   ],
   "source": [
    "#通过最大方差法进行因子旋转\n",
    "fa.rotate_components(method='varimax')\n",
    "fa_plotting.graph_summary(fa)\n",
    "# - 说明：可以通过第三张图观看每个因子在每个变量上的权重，权重越高，代表性越强\n",
    "#选择三个主成分即可，所以num_keep = 3"
   ]
  },
  {
   "cell_type": "code",
   "execution_count": 65,
   "metadata": {},
   "outputs": [
    {
     "data": {
      "text/html": [
       "<div>\n",
       "<style scoped>\n",
       "    .dataframe tbody tr th:only-of-type {\n",
       "        vertical-align: middle;\n",
       "    }\n",
       "\n",
       "    .dataframe tbody tr th {\n",
       "        vertical-align: top;\n",
       "    }\n",
       "\n",
       "    .dataframe thead th {\n",
       "        text-align: right;\n",
       "    }\n",
       "</style>\n",
       "<table border=\"1\" class=\"dataframe\">\n",
       "  <thead>\n",
       "    <tr style=\"text-align: right;\">\n",
       "      <th></th>\n",
       "      <th>0</th>\n",
       "      <th>1</th>\n",
       "      <th>2</th>\n",
       "    </tr>\n",
       "  </thead>\n",
       "  <tbody>\n",
       "    <tr>\n",
       "      <td>0</td>\n",
       "      <td>0.004039</td>\n",
       "      <td>0.992900</td>\n",
       "      <td>0.007811</td>\n",
       "    </tr>\n",
       "    <tr>\n",
       "      <td>1</td>\n",
       "      <td>0.671476</td>\n",
       "      <td>-0.090569</td>\n",
       "      <td>0.100081</td>\n",
       "    </tr>\n",
       "    <tr>\n",
       "      <td>2</td>\n",
       "      <td>0.741002</td>\n",
       "      <td>0.076706</td>\n",
       "      <td>-0.084707</td>\n",
       "    </tr>\n",
       "    <tr>\n",
       "      <td>3</td>\n",
       "      <td>-0.004504</td>\n",
       "      <td>0.007874</td>\n",
       "      <td>0.991336</td>\n",
       "    </tr>\n",
       "  </tbody>\n",
       "</table>\n",
       "</div>"
      ],
      "text/plain": [
       "          0         1         2\n",
       "0  0.004039  0.992900  0.007811\n",
       "1  0.671476 -0.090569  0.100081\n",
       "2  0.741002  0.076706 -0.084707\n",
       "3 -0.004504  0.007874  0.991336"
      ]
     },
     "execution_count": 65,
     "metadata": {},
     "output_type": "execute_result"
    }
   ],
   "source": [
    "#获取因子得分\n",
    "pd.DataFrame(fa.comps[\"rot\"])"
   ]
  },
  {
   "cell_type": "code",
   "execution_count": 67,
   "metadata": {},
   "outputs": [
    {
     "data": {
      "text/html": [
       "<div>\n",
       "<style scoped>\n",
       "    .dataframe tbody tr th:only-of-type {\n",
       "        vertical-align: middle;\n",
       "    }\n",
       "\n",
       "    .dataframe tbody tr th {\n",
       "        vertical-align: top;\n",
       "    }\n",
       "\n",
       "    .dataframe thead th {\n",
       "        text-align: right;\n",
       "    }\n",
       "</style>\n",
       "<table border=\"1\" class=\"dataframe\">\n",
       "  <thead>\n",
       "    <tr style=\"text-align: right;\">\n",
       "      <th></th>\n",
       "      <th>0</th>\n",
       "      <th>1</th>\n",
       "      <th>2</th>\n",
       "    </tr>\n",
       "  </thead>\n",
       "  <tbody>\n",
       "    <tr>\n",
       "      <td>0</td>\n",
       "      <td>-0.852354</td>\n",
       "      <td>-0.294938</td>\n",
       "      <td>0.143935</td>\n",
       "    </tr>\n",
       "    <tr>\n",
       "      <td>1</td>\n",
       "      <td>-0.333078</td>\n",
       "      <td>-0.244334</td>\n",
       "      <td>0.939343</td>\n",
       "    </tr>\n",
       "    <tr>\n",
       "      <td>2</td>\n",
       "      <td>0.918067</td>\n",
       "      <td>0.593787</td>\n",
       "      <td>2.349496</td>\n",
       "    </tr>\n",
       "    <tr>\n",
       "      <td>3</td>\n",
       "      <td>-0.741847</td>\n",
       "      <td>-0.210507</td>\n",
       "      <td>-0.521592</td>\n",
       "    </tr>\n",
       "    <tr>\n",
       "      <td>4</td>\n",
       "      <td>-0.499703</td>\n",
       "      <td>-0.492714</td>\n",
       "      <td>-0.367629</td>\n",
       "    </tr>\n",
       "  </tbody>\n",
       "</table>\n",
       "</div>"
      ],
      "text/plain": [
       "          0         1         2\n",
       "0 -0.852354 -0.294938  0.143935\n",
       "1 -0.333078 -0.244334  0.939343\n",
       "2  0.918067  0.593787  2.349496\n",
       "3 -0.741847 -0.210507 -0.521592\n",
       "4 -0.499703 -0.492714 -0.367629"
      ]
     },
     "execution_count": 67,
     "metadata": {},
     "output_type": "execute_result"
    }
   ],
   "source": [
    "import numpy as np\n",
    "fas = pd.DataFrame(fa.comps[\"rot\"])\n",
    "data = pd.DataFrame(data)\n",
    "score = pd.DataFrame(np.dot(data, fas))\n",
    "score.head()"
   ]
  },
  {
   "cell_type": "code",
   "execution_count": 60,
   "metadata": {},
   "outputs": [
    {
     "data": {
      "text/html": [
       "<div>\n",
       "<style scoped>\n",
       "    .dataframe tbody tr th:only-of-type {\n",
       "        vertical-align: middle;\n",
       "    }\n",
       "\n",
       "    .dataframe tbody tr th {\n",
       "        vertical-align: top;\n",
       "    }\n",
       "\n",
       "    .dataframe thead th {\n",
       "        text-align: right;\n",
       "    }\n",
       "</style>\n",
       "<table border=\"1\" class=\"dataframe\">\n",
       "  <thead>\n",
       "    <tr style=\"text-align: right;\">\n",
       "      <th></th>\n",
       "      <th>ATM_POS</th>\n",
       "      <th>TBM</th>\n",
       "      <th>CSC</th>\n",
       "    </tr>\n",
       "  </thead>\n",
       "  <tbody>\n",
       "    <tr>\n",
       "      <td>0</td>\n",
       "      <td>-0.852354</td>\n",
       "      <td>-0.294938</td>\n",
       "      <td>0.143935</td>\n",
       "    </tr>\n",
       "    <tr>\n",
       "      <td>1</td>\n",
       "      <td>-0.333078</td>\n",
       "      <td>-0.244334</td>\n",
       "      <td>0.939343</td>\n",
       "    </tr>\n",
       "    <tr>\n",
       "      <td>2</td>\n",
       "      <td>0.918067</td>\n",
       "      <td>0.593787</td>\n",
       "      <td>2.349496</td>\n",
       "    </tr>\n",
       "    <tr>\n",
       "      <td>3</td>\n",
       "      <td>-0.741847</td>\n",
       "      <td>-0.210507</td>\n",
       "      <td>-0.521592</td>\n",
       "    </tr>\n",
       "    <tr>\n",
       "      <td>4</td>\n",
       "      <td>-0.499703</td>\n",
       "      <td>-0.492714</td>\n",
       "      <td>-0.367629</td>\n",
       "    </tr>\n",
       "  </tbody>\n",
       "</table>\n",
       "</div>"
      ],
      "text/plain": [
       "    ATM_POS       TBM       CSC\n",
       "0 -0.852354 -0.294938  0.143935\n",
       "1 -0.333078 -0.244334  0.939343\n",
       "2  0.918067  0.593787  2.349496\n",
       "3 -0.741847 -0.210507 -0.521592\n",
       "4 -0.499703 -0.492714 -0.367629"
      ]
     },
     "execution_count": 60,
     "metadata": {},
     "output_type": "execute_result"
    }
   ],
   "source": [
    "fa_scores=score.rename(columns={0: \"ATM_POS\", 1: \"TBM\", 2: \"CSC\"})\n",
    "fa_scores.head()"
   ]
  },
  {
   "cell_type": "code",
   "execution_count": 61,
   "metadata": {},
   "outputs": [
    {
     "data": {
      "text/plain": [
       "<matplotlib.axes._subplots.AxesSubplot at 0x17446147848>"
      ]
     },
     "execution_count": 61,
     "metadata": {},
     "output_type": "execute_result"
    },
    {
     "data": {
      "image/png": "[encoded data removed]",
      "text/plain": [
       "<Figure size 432x288 with 1 Axes>"
      ]
     },
     "metadata": {},
     "output_type": "display_data"
    }
   ],
   "source": [
    "#使用因子得分进行k-means聚类\n",
    "# ### 4.1 k-means聚类的第一种方式：不进行变量分布的正态转换--用于寻找异常值\n",
    "\n",
    "# - 1、查看变量的偏度\n",
    "var = [\"ATM_POS\",\"TBM\",\"CSC\"]\n",
    "skew_var = {}\n",
    "for i in var:\n",
    "    skew_var[i]=abs(fa_scores[i].skew())\n",
    "    skew=pd.Series(skew_var).sort_values(ascending=False)\n",
    "skew\n",
    "\n",
    "# - 2、进行k-means聚类\n",
    "from sklearn.cluster import KMeans\n",
    "kmeans = KMeans(n_clusters=3) #MiniBatchKMeans()分批处理\n",
    "#kmeans = cluster.KMeans(n_clusters=3, init='random', n_init=1)\n",
    "result=kmeans.fit(fa_scores)\n",
    "#print(result)\n",
    "\n",
    "\n",
    "# - 3、对分类结果进行解读\n",
    "\n",
    "model_data_l=model_data.join(pd.DataFrame(result.labels_))\n",
    "model_data_l=model_data_l.rename(columns={0: \"clustor\"})\n",
    "model_data_l.head()\n",
    "\n",
    "\n",
    "import matplotlib\n",
    "get_ipython().magic('matplotlib inline')\n",
    "model_data_l.clustor.value_counts().plot(kind = 'pie') "
   ]
  },
  {
   "cell_type": "code",
   "execution_count": 62,
   "metadata": {},
   "outputs": [
    {
     "data": {
      "text/plain": [
       "<matplotlib.axes._subplots.AxesSubplot at 0x174467767c8>"
      ]
     },
     "execution_count": 62,
     "metadata": {},
     "output_type": "execute_result"
    },
    {
     "data": {
      "image/png": "[encoded data removed]",
      "text/plain": [
       "<Figure size 432x288 with 1 Axes>"
      ]
     },
     "metadata": {},
     "output_type": "display_data"
    }
   ],
   "source": [
    "# ### 4.2 k-means聚类的第二种方式：进行变量分布的正态转换--用于客户细分\n",
    "\n",
    "# - 1、进行变量分布的正态转换\n",
    "from sklearn import preprocessing\n",
    "quantile_transformer = preprocessing.QuantileTransformer(output_distribution='normal', random_state=0)\n",
    "fa_scores_trans=quantile_transformer.fit_transform(fa_scores)\n",
    "fa_scores_trans=pd.DataFrame(fa_scores_trans)\n",
    "fa_scores_trans=fa_scores_trans.rename(columns={0: \"ATM_POS\", 1: \"TBM\", 2: \"CSC\"})\n",
    "fa_scores_trans.head()\n",
    "\n",
    "\n",
    "var = [\"ATM_POS\",\"TBM\",\"CSC\"]\n",
    "skew_var = {}\n",
    "for i in var:\n",
    "    skew_var[i]=abs(fa_scores_trans[i].skew())\n",
    "    skew=pd.Series(skew_var).sort_values(ascending=False)\n",
    "skew\n",
    "\n",
    "# - 2、进行k-means聚类\n",
    "from sklearn.cluster import KMeans\n",
    "kmeans = KMeans(n_clusters=4) #MiniBatchKMeans()分批处理\n",
    "#kmeans = cluster.KMeans(n_clusters=3, init='random', n_init=1)\n",
    "result=kmeans.fit(fa_scores_trans)\n",
    "#print(result)\n",
    "\n",
    "\n",
    "# - 3、对分类结果进行解读\n",
    "model_data_l=model_data.join(pd.DataFrame(result.labels_))\n",
    "model_data_l=model_data_l.rename(columns={0: \"clustor\"})\n",
    "model_data_l.head()\n",
    "\n",
    "import matplotlib\n",
    "get_ipython().magic('matplotlib inline')\n",
    "model_data_l.clustor.value_counts().plot(kind = 'pie') "
   ]
  },
  {
   "cell_type": "code",
   "execution_count": null,
   "metadata": {},
   "outputs": [],
   "source": []
  },
  {
   "cell_type": "code",
   "execution_count": null,
   "metadata": {},
   "outputs": [],
   "source": []
  },
  {
   "cell_type": "code",
   "execution_count": null,
   "metadata": {},
   "outputs": [],
   "source": []
  },
  {
   "cell_type": "code",
   "execution_count": null,
   "metadata": {},
   "outputs": [],
   "source": []
  }
 ],
 "metadata": {
  "kernelspec": {
   "display_name": "Python 3",
   "language": "python",
   "name": "python3"
  },
  "language_info": {
   "codemirror_mode": {
    "name": "ipython",
    "version": 3
   },
   "file_extension": ".py",
   "mimetype": "text/x-python",
   "name": "python",
   "nbconvert_exporter": "python",
   "pygments_lexer": "ipython3",
   "version": "3.7.4"
  }
 },
 "nbformat": 4,
 "nbformat_minor": 2
}
