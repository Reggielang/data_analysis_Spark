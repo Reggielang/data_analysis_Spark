{
 "cells": [
  {
   "cell_type": "code",
   "execution_count": 1,
   "metadata": {},
   "outputs": [
    {
     "data": {
      "text/html": [
       "\n",
       "            <div>\n",
       "                <p><b>SparkSession - hive</b></p>\n",
       "                \n",
       "        <div>\n",
       "            <p><b>SparkContext</b></p>\n",
       "\n",
       "            <p><a href=\"http://windows10.microdone.cn:4040\">Spark UI</a></p>\n",
       "\n",
       "            <dl>\n",
       "              <dt>Version</dt>\n",
       "                <dd><code>v2.4.5</code></dd>\n",
       "              <dt>Master</dt>\n",
       "                <dd><code>local[*]</code></dd>\n",
       "              <dt>AppName</dt>\n",
       "                <dd><code>Python Spark SQL Hive integration example</code></dd>\n",
       "            </dl>\n",
       "        </div>\n",
       "        \n",
       "            </div>\n",
       "        "
      ],
      "text/plain": [
       "<pyspark.sql.session.SparkSession at 0x24acbbdb648>"
      ]
     },
     "execution_count": 1,
     "metadata": {},
     "output_type": "execute_result"
    }
   ],
   "source": [
    "from pyspark.sql import SparkSession\n",
    "from pyspark.sql import Row\n",
    "from pyspark import SparkContext\n",
    "from pyspark.sql import SQLContext\n",
    "from pyspark.sql import HiveContext \n",
    "spark = SparkSession.builder.appName(\"Python Spark SQL Hive integration example\").enableHiveSupport().getOrCreate()\n",
    "sc = spark.sparkContext\n",
    "spark"
   ]
  },
  {
   "cell_type": "code",
   "execution_count": 76,
   "metadata": {},
   "outputs": [
    {
     "name": "stdout",
     "output_type": "stream",
     "text": [
      "+--------+---------+-----------+\n",
      "|database|tableName|isTemporary|\n",
      "+--------+---------+-----------+\n",
      "| default|  student|      false|\n",
      "| default|   xxm_t1|      false|\n",
      "| default|   xxm_t2|      false|\n",
      "| default|   xxm_t3|      false|\n",
      "| default|   xxm_t4|      false|\n",
      "| default|   xxm_t5|      false|\n",
      "|        |temptable|       true|\n",
      "|        |     tmpv|       true|\n",
      "+--------+---------+-----------+\n",
      "\n"
     ]
    }
   ],
   "source": [
    "spark.sql(\"show tables\").show()"
   ]
  },
  {
   "cell_type": "code",
   "execution_count": 77,
   "metadata": {},
   "outputs": [
    {
     "name": "stdout",
     "output_type": "stream",
     "text": [
      "+--------+----------+---+---+---+---+---+---+---+\n",
      "|cookieid|createtime| pv|pv1|pv2|pv3|pv4|pv5|pv6|\n",
      "+--------+----------+---+---+---+---+---+---+---+\n",
      "| cookie1|2015-04-10|  1|  2|  1| 52|  1|  2| 52|\n",
      "| cookie1|2015-04-10|  1|  2|  2| 52|  2|  7| 51|\n",
      "| cookie1|2015-04-11|  5| 12|  7| 52|  7| 12| 50|\n",
      "| cookie1|2015-04-11|  5| 12| 12| 52| 12| 19| 45|\n",
      "| cookie1|2015-04-12|  7| 26| 19| 52| 18| 25| 40|\n",
      "| cookie1|2015-04-12|  7| 26| 26| 52| 24| 27| 33|\n",
      "| cookie1|2015-04-13|  3| 32| 29| 52| 22| 25| 26|\n",
      "| cookie1|2015-04-13|  3| 32| 32| 52| 20| 22| 23|\n",
      "| cookie1|2015-04-14|  2| 36| 34| 52| 15| 17| 20|\n",
      "| cookie1|2015-04-14|  2| 36| 36| 52| 10| 14| 18|\n",
      "| cookie1|2015-04-15|  4| 44| 40| 52| 11| 15| 16|\n",
      "| cookie1|2015-04-15|  4| 44| 44| 52| 12| 16| 12|\n",
      "| cookie1|2015-04-16|  4| 52| 48| 52| 14| 18|  8|\n",
      "| cookie1|2015-04-16|  4| 52| 52| 52| 16| 16|  4|\n",
      "+--------+----------+---+---+---+---+---+---+---+\n",
      "\n"
     ]
    }
   ],
   "source": [
    "sql=\"\"\"\n",
    "SELECT cookieid,\n",
    "createtime,\n",
    "pv,\n",
    "SUM(pv) OVER(PARTITION BY cookieid ORDER BY createtime) AS pv1, -- 默认为从起点到当前行\n",
    "SUM(pv) OVER(PARTITION BY cookieid ORDER BY createtime ROWS BETWEEN UNBOUNDED PRECEDING AND CURRENT ROW) AS pv2, --从起点到当前行，结果同pv1\n",
    "SUM(pv) OVER(PARTITION BY cookieid) AS pv3,                --分组内所有行\n",
    "SUM(pv) OVER(PARTITION BY cookieid ORDER BY createtime ROWS BETWEEN 3 PRECEDING AND CURRENT ROW) AS pv4,   --当前行+往前3行\n",
    "SUM(pv) OVER(PARTITION BY cookieid ORDER BY createtime ROWS BETWEEN 3 PRECEDING AND 1 FOLLOWING) AS pv5,    --当前行+往前3行+往后1行\n",
    "SUM(pv) OVER(PARTITION BY cookieid ORDER BY createtime ROWS BETWEEN CURRENT ROW AND UNBOUNDED FOLLOWING) AS pv6   ---当前行+往后所有行  \n",
    "FROM xxm_t1\n",
    "\"\"\"\n",
    "spark.sql(sql).show()"
   ]
  },
  {
   "cell_type": "code",
   "execution_count": null,
   "metadata": {},
   "outputs": [],
   "source": []
  },
  {
   "cell_type": "code",
   "execution_count": null,
   "metadata": {},
   "outputs": [],
   "source": []
  },
  {
   "cell_type": "code",
   "execution_count": null,
   "metadata": {},
   "outputs": [],
   "source": []
  }
 ],
 "metadata": {
  "kernelspec": {
   "display_name": "Python 3",
   "language": "python",
   "name": "python3"
  },
  "language_info": {
   "codemirror_mode": {
    "name": "ipython",
    "version": 3
   },
   "file_extension": ".py",
   "mimetype": "text/x-python",
   "name": "python",
   "nbconvert_exporter": "python",
   "pygments_lexer": "ipython3",
   "version": "3.7.4"
  }
 },
 "nbformat": 4,
 "nbformat_minor": 2
}
