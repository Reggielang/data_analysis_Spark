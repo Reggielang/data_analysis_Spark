{
 "cells": [
  {
   "cell_type": "code",
   "execution_count": 1,
   "metadata": {},
   "outputs": [],
   "source": [
    "from pyspark.sql import SparkSession\n",
    "import os \n",
    "os.chdir(r'C:\\Users\\REGGIE\\Desktop\\student\\数据分析资料\\Spark学习\\data')\n",
    "spark=SparkSession.builder.appName('lin_reg').getOrCreate()"
   ]
  },
  {
   "cell_type": "code",
   "execution_count": 8,
   "metadata": {},
   "outputs": [],
   "source": [
    "df=spark.read.csv('linear_rog.txt',inferSchema=True,header=True)"
   ]
  },
  {
   "cell_type": "code",
   "execution_count": 10,
   "metadata": {},
   "outputs": [
    {
     "name": "stdout",
     "output_type": "stream",
     "text": [
      "+----+----+----+-----+-----+------+\n",
      "|var1|var2|var3| var4| var5|result|\n",
      "+----+----+----+-----+-----+------+\n",
      "| 634| 666|  61|0.316|0.159| 0.416|\n",
      "| 600| 600|  94| 0.31|0.146| 0.369|\n",
      "| 611| 605|  93|0.311|0.146| 0.416|\n",
      "| 634| 606|  69|0.315| 0.16| 0.415|\n",
      "| 613| 659|  61|0.301| 0.14| 0.366|\n",
      "| 646| 666|  65|0.316|0.155| 0.411|\n",
      "| 669| 566|  96|0.315|0.151| 0.411|\n",
      "| 666| 645|  66|0.314|0.151| 0.361|\n",
      "| 656| 690|  64| 0.33|0.164| 0.436|\n",
      "| 616| 660|  66|0.335|0.166| 0.411|\n",
      "| 563| 694|  55|0.301|0.136| 0.361|\n",
      "| 666| 699|  69|0.331|0.164| 0.433|\n",
      "| 636| 596|  66|0.316|0.151| 0.364|\n",
      "| 609| 614|  69|0.306|0.144| 0.361|\n",
      "| 666| 633|  63|0.315|0.159| 0.436|\n",
      "| 601| 631|  66|0.315| 0.16|  0.39|\n",
      "| 650| 609|  64|0.316|0.149| 0.366|\n",
      "| 604| 666|  95|0.336|0.165| 0.453|\n",
      "| 613| 614|  94| 0.31|0.136| 0.404|\n",
      "| 664| 660|  61|0.316|0.155|   0.4|\n",
      "+----+----+----+-----+-----+------+\n",
      "only showing top 20 rows\n",
      "\n"
     ]
    }
   ],
   "source": [
    "df.show()"
   ]
  },
  {
   "cell_type": "code",
   "execution_count": 12,
   "metadata": {},
   "outputs": [
    {
     "name": "stdout",
     "output_type": "stream",
     "text": [
      "root\n",
      " |-- var1: integer (nullable = true)\n",
      " |-- var2: integer (nullable = true)\n",
      " |-- var3: integer (nullable = true)\n",
      " |-- var4: double (nullable = true)\n",
      " |-- var5: double (nullable = true)\n",
      " |-- result: double (nullable = true)\n",
      "\n"
     ]
    }
   ],
   "source": [
    "df.printSchema()"
   ]
  },
  {
   "cell_type": "code",
   "execution_count": 13,
   "metadata": {},
   "outputs": [
    {
     "name": "stdout",
     "output_type": "stream",
     "text": [
      "+-------+-----------------+-----------------+------------------+--------------------+--------------------+--------------------+\n",
      "|summary|             var1|             var2|              var3|                var4|                var5|              result|\n",
      "+-------+-----------------+-----------------+------------------+--------------------+--------------------+--------------------+\n",
      "|  count|             1150|             1150|              1150|                1150|                1150|                1150|\n",
      "|   mean|643.6973913043478|644.2704347826087| 71.62608695652175|  0.3191382608695646| 0.15598347826086953|  0.3919947826086955|\n",
      "| stddev|63.10662570038112|64.78680908019999|13.753493658264567|0.030429290211964388|0.010494753386318759|0.034980138199992294|\n",
      "|    min|              460|              461|                40|               0.161|                0.11|               0.301|\n",
      "|    max|             1009|             1103|               116|               0.369|               0.194|               0.491|\n",
      "+-------+-----------------+-----------------+------------------+--------------------+--------------------+--------------------+\n",
      "\n"
     ]
    }
   ],
   "source": [
    "df.describe().show()"
   ]
  },
  {
   "cell_type": "code",
   "execution_count": 18,
   "metadata": {},
   "outputs": [
    {
     "name": "stdout",
     "output_type": "stream",
     "text": [
      "root\n",
      " |-- var1: integer (nullable = true)\n",
      " |-- var2: integer (nullable = true)\n",
      " |-- var3: integer (nullable = true)\n",
      " |-- var4: double (nullable = true)\n",
      " |-- var5: double (nullable = true)\n",
      " |-- result: double (nullable = true)\n",
      " |-- features: vector (nullable = true)\n",
      "\n"
     ]
    }
   ],
   "source": [
    "#构造feature\n",
    "from pyspark.ml.linalg import Vector\n",
    "from pyspark.ml.feature import VectorAssembler\n",
    "\n",
    "vec_assmebler=VectorAssembler(inputCols=['var1', 'var2', 'var3', 'var4', 'var5'],outputCol='features')\n",
    "features_df=vec_assmebler.transform(df)\n",
    "features_df.printSchema()"
   ]
  },
  {
   "cell_type": "code",
   "execution_count": 19,
   "metadata": {},
   "outputs": [
    {
     "name": "stdout",
     "output_type": "stream",
     "text": [
      "+------------------------------+------+\n",
      "|features                      |result|\n",
      "+------------------------------+------+\n",
      "|[634.0,666.0,61.0,0.316,0.159]|0.416 |\n",
      "|[600.0,600.0,94.0,0.31,0.146] |0.369 |\n",
      "|[611.0,605.0,93.0,0.311,0.146]|0.416 |\n",
      "|[634.0,606.0,69.0,0.315,0.16] |0.415 |\n",
      "|[613.0,659.0,61.0,0.301,0.14] |0.366 |\n",
      "+------------------------------+------+\n",
      "only showing top 5 rows\n",
      "\n"
     ]
    }
   ],
   "source": [
    "model_df=features_df.select('features','result')\n",
    "model_df.show(5,False)"
   ]
  },
  {
   "cell_type": "code",
   "execution_count": 20,
   "metadata": {},
   "outputs": [],
   "source": [
    "#划分训练和测试数据集\n",
    "train_df,test_df=model_df.randomSplit([0.7,0.3])"
   ]
  },
  {
   "cell_type": "code",
   "execution_count": 21,
   "metadata": {},
   "outputs": [
    {
     "name": "stdout",
     "output_type": "stream",
     "text": [
      "+-------+------------------+\n",
      "|summary|            result|\n",
      "+-------+------------------+\n",
      "|  count|               786|\n",
      "|   mean|0.3913994910941481|\n",
      "| stddev|0.0344440571043014|\n",
      "|    min|             0.301|\n",
      "|    max|             0.469|\n",
      "+-------+------------------+\n",
      "\n"
     ]
    }
   ],
   "source": [
    "train_df.describe().show()"
   ]
  },
  {
   "cell_type": "code",
   "execution_count": 24,
   "metadata": {},
   "outputs": [],
   "source": [
    "from pyspark.ml.regression import LinearRegression\n",
    "#使用线性回归模型\n",
    "lin_reg=LinearRegression(featuresCol='features',labelCol='result')"
   ]
  },
  {
   "cell_type": "code",
   "execution_count": 25,
   "metadata": {},
   "outputs": [],
   "source": [
    "lr_model=lin_reg.fit(train_df)"
   ]
  },
  {
   "cell_type": "code",
   "execution_count": 26,
   "metadata": {},
   "outputs": [
    {
     "name": "stdout",
     "output_type": "stream",
     "text": [
      "方程截距:-0.03948965287038941\n",
      "方程参数系数:[6.313573384243278e-05,9.971435672294665e-05,0.0004988930713592141,0.18624716137453984,1.4788900836901167]\n"
     ]
    }
   ],
   "source": [
    "print('{}{}'.format('方程截距:',lr_model.intercept)) \n",
    "print('{}{}'.format('方程参数系数:',lr_model.coefficients))  "
   ]
  },
  {
   "cell_type": "code",
   "execution_count": 27,
   "metadata": {},
   "outputs": [],
   "source": [
    "training_predict=lr_model.evaluate(train_df)"
   ]
  },
  {
   "cell_type": "code",
   "execution_count": 32,
   "metadata": {},
   "outputs": [
    {
     "name": "stdout",
     "output_type": "stream",
     "text": [
      "均方误差:0.0005048419139793075\n",
      "R2判定系数：0.5739312395165106\n"
     ]
    }
   ],
   "source": [
    "training_predict.meanSquaredError\n",
    "#误差值差值平方   \n",
    "#R2常用判定系数,用来判定，构建的模型是否能够准确的预测,越大说明预测的准确率越高\n",
    "print('{}{}'.format('均方误差:',training_predict.meanSquaredError))           \n",
    "print('{}{}'.format('R2判定系数：',training_predict.r2 ))"
   ]
  },
  {
   "cell_type": "code",
   "execution_count": 39,
   "metadata": {},
   "outputs": [],
   "source": [
    "model_predict=lr_model.transform(test_df)"
   ]
  },
  {
   "cell_type": "code",
   "execution_count": 40,
   "metadata": {},
   "outputs": [
    {
     "name": "stdout",
     "output_type": "stream",
     "text": [
      "+--------------------+------+-------------------+\n",
      "|            features|result|         prediction|\n",
      "+--------------------+------+-------------------+\n",
      "|[460.0,509.0,66.0...| 0.319|0.29696581613083006|\n",
      "|[463.0,516.0,66.0...| 0.311|0.27621752685088363|\n",
      "|[495.0,616.0,66.0...| 0.315|0.29283222341858106|\n",
      "|[496.0,661.0,61.0...| 0.315|0.32021541843226653|\n",
      "|[511.0,611.0,61.0...| 0.316|0.29070745968749945|\n",
      "|[514.0,665.0,65.0...| 0.336|0.29121070951257644|\n",
      "|[516.0,504.0,66.0...| 0.316|0.31038833765014096|\n",
      "|[516.0,569.0,65.0...| 0.341| 0.3243240696683475|\n",
      "|[519.0,595.0,63.0...| 0.331| 0.3412275456952093|\n",
      "|[531.0,690.0,69.0...| 0.351| 0.3681339018941138|\n",
      "+--------------------+------+-------------------+\n",
      "only showing top 10 rows\n",
      "\n"
     ]
    }
   ],
   "source": [
    "model_predict.show(10)"
   ]
  },
  {
   "cell_type": "code",
   "execution_count": 41,
   "metadata": {},
   "outputs": [
    {
     "data": {
      "text/plain": [
       "0.5718625329107929"
      ]
     },
     "execution_count": 41,
     "metadata": {},
     "output_type": "execute_result"
    }
   ],
   "source": [
    "model_predict=lr_model.evaluate(test_df)\n",
    "model_predict.r2"
   ]
  },
  {
   "cell_type": "code",
   "execution_count": null,
   "metadata": {},
   "outputs": [],
   "source": []
  },
  {
   "cell_type": "code",
   "execution_count": null,
   "metadata": {},
   "outputs": [],
   "source": [
    "#sklearn中的多元线性回归"
   ]
  },
  {
   "cell_type": "code",
   "execution_count": 42,
   "metadata": {},
   "outputs": [],
   "source": [
    "import pandas as pd\n",
    "import numpy as np\n",
    "import matplotlib.pyplot as plt\n",
    "import seaborn as sns\n",
    "import statsmodels.api as sm\n",
    "from numpy import corrcoef,array\n",
    "from statsmodels.formula.api import ols\n",
    "import math"
   ]
  },
  {
   "cell_type": "code",
   "execution_count": 49,
   "metadata": {},
   "outputs": [
    {
     "name": "stdout",
     "output_type": "stream",
     "text": [
      "<class 'pandas.core.frame.DataFrame'>\n",
      "RangeIndex: 1150 entries, 0 to 1149\n",
      "Data columns (total 6 columns):\n",
      "var1      1150 non-null int64\n",
      "var2      1150 non-null int64\n",
      "var3      1150 non-null int64\n",
      "var4      1150 non-null float64\n",
      "var5      1150 non-null float64\n",
      "result    1150 non-null float64\n",
      "dtypes: float64(3), int64(3)\n",
      "memory usage: 54.0 KB\n"
     ]
    }
   ],
   "source": [
    "data = pd.read_csv('linear_rog.txt')\n",
    "data.info()"
   ]
  },
  {
   "cell_type": "code",
   "execution_count": 50,
   "metadata": {},
   "outputs": [],
   "source": [
    "#多元回归预测\n",
    "Y = data['result'].values\n",
    "X = data[['var1', 'var2', 'var3', 'var4', 'var5']]"
   ]
  },
  {
   "cell_type": "code",
   "execution_count": 66,
   "metadata": {},
   "outputs": [
    {
     "name": "stdout",
     "output_type": "stream",
     "text": [
      "var1 \t 1.5177942822816275\n",
      "var2 \t 1.2241025218103023\n",
      "var3 \t 1.2556155097483748\n",
      "var4 \t 2.2357627295257063\n",
      "var5 \t 2.1212916121887018\n"
     ]
    }
   ],
   "source": [
    "#查看共线性问题\n",
    "def vif(df, col_i):\n",
    "    from statsmodels.formula.api import ols\n",
    "    \n",
    "    cols = list(df.columns)\n",
    "    cols.remove(col_i)\n",
    "    cols_noti = cols\n",
    "    formula = col_i + '~' + '+'.join(cols_noti)\n",
    "    r2 = ols(formula, df).fit().rsquared\n",
    "    return 1. / (1. - r2)\n",
    "\n",
    "exog = X\n",
    "for i in exog.columns:\n",
    "    print(i, '\\t', vif(df=exog, col_i=i))"
   ]
  },
  {
   "cell_type": "code",
   "execution_count": 67,
   "metadata": {},
   "outputs": [
    {
     "data": {
      "text/plain": [
       "LinearRegression(copy_X=True, fit_intercept=True, n_jobs=None, normalize=False)"
      ]
     },
     "execution_count": 67,
     "metadata": {},
     "output_type": "execute_result"
    }
   ],
   "source": [
    "from sklearn.linear_model import LinearRegression\n",
    "regr = LinearRegression()\n",
    "regr.fit(X,Y)"
   ]
  },
  {
   "cell_type": "code",
   "execution_count": 68,
   "metadata": {},
   "outputs": [
    {
     "name": "stdout",
     "output_type": "stream",
     "text": [
      "                            OLS Regression Results                            \n",
      "==============================================================================\n",
      "Dep. Variable:                      y   R-squared:                       0.575\n",
      "Model:                            OLS   Adj. R-squared:                  0.573\n",
      "Method:                 Least Squares   F-statistic:                     308.9\n",
      "Date:                Wed, 21 Oct 2020   Prob (F-statistic):          2.38e-209\n",
      "Time:                        12:08:41   Log-Likelihood:                 2716.0\n",
      "No. Observations:                1150   AIC:                            -5420.\n",
      "Df Residuals:                    1144   BIC:                            -5390.\n",
      "Df Model:                           5                                         \n",
      "Covariance Type:            nonrobust                                         \n",
      "==============================================================================\n",
      "                 coef    std err          t      P>|t|      [0.025      0.975]\n",
      "------------------------------------------------------------------------------\n",
      "const         -0.0333      0.011     -2.908      0.004      -0.056      -0.011\n",
      "var1        6.992e-05   1.32e-05      5.309      0.000    4.41e-05    9.58e-05\n",
      "var2           0.0001   1.15e-05      8.768      0.000    7.84e-05       0.000\n",
      "var3           0.0005    5.5e-05      8.389      0.000       0.000       0.001\n",
      "var4           0.1685      0.033      5.083      0.000       0.103       0.234\n",
      "var5           1.4643      0.094     15.640      0.000       1.281       1.648\n",
      "==============================================================================\n",
      "Omnibus:                       17.506   Durbin-Watson:                   1.362\n",
      "Prob(Omnibus):                  0.000   Jarque-Bera (JB):               12.443\n",
      "Skew:                           0.138   Prob(JB):                      0.00199\n",
      "Kurtosis:                       2.572   Cond. No.                     1.30e+05\n",
      "==============================================================================\n",
      "\n",
      "Warnings:\n",
      "[1] Standard Errors assume that the covariance matrix of the errors is correctly specified.\n",
      "[2] The condition number is large, 1.3e+05. This might indicate that there are\n",
      "strong multicollinearity or other numerical problems.\n"
     ]
    },
    {
     "name": "stderr",
     "output_type": "stream",
     "text": [
      "C:\\ProgramData\\Anaconda3\\lib\\site-packages\\numpy\\core\\fromnumeric.py:2389: FutureWarning: Method .ptp is deprecated and will be removed in a future version. Use numpy.ptp instead.\n",
      "  return ptp(axis=axis, out=out, **kwargs)\n"
     ]
    }
   ],
   "source": [
    "#评估回归模型\n",
    "import statsmodels.api as sm\n",
    "x2 = sm.add_constant(X)\n",
    "est = sm.OLS(Y,x2)\n",
    "est2 = est.fit()\n",
    "print(est2.summary())"
   ]
  },
  {
   "cell_type": "code",
   "execution_count": 69,
   "metadata": {},
   "outputs": [],
   "source": [
    "predictorcols = X\n",
    "#透过AIC选定最佳的组合\n",
    "import itertools\n",
    "AICs = {}\n",
    "for k in range(1,len(predictorcols)+1):\n",
    "    for variables in itertools.combinations(predictorcols, k):\n",
    "        predictors  = X[list(variables)]\n",
    "        predictors2 = sm.add_constant(predictors.values)\n",
    "        est = sm.OLS(Y, predictors2)\n",
    "        res = est.fit()\n",
    "        AICs[variables] = res.aic"
   ]
  },
  {
   "cell_type": "code",
   "execution_count": 70,
   "metadata": {},
   "outputs": [
    {
     "data": {
      "text/plain": [
       "[(('var1', 'var2', 'var3', 'var4', 'var5'), -5419.98121159966),\n",
       " (('var1', 'var3', 'var4', 'var5'), -5347.1880376540785),\n",
       " (('var3', 'var4', 'var5'), -5303.046042765712),\n",
       " (('var1', 'var2', 'var3', 'var4'), -5199.14096338611),\n",
       " (('var1', 'var4'), -5086.258920466961),\n",
       " (('var1', 'var3'), -4855.128382495624),\n",
       " (('var2',), -4557.915029348461)]"
      ]
     },
     "execution_count": 70,
     "metadata": {},
     "output_type": "execute_result"
    }
   ],
   "source": [
    "from collections import Counter\n",
    "c = Counter(AICs)\n",
    "#c.most_common()\n",
    "#选择AIC最小的模型\n",
    "c.most_common()[::-5]"
   ]
  },
  {
   "cell_type": "code",
   "execution_count": 73,
   "metadata": {},
   "outputs": [],
   "source": [
    "pred = regr.predict(X)"
   ]
  },
  {
   "cell_type": "code",
   "execution_count": 76,
   "metadata": {},
   "outputs": [
    {
     "data": {
      "text/html": [
       "<div>\n",
       "<style scoped>\n",
       "    .dataframe tbody tr th:only-of-type {\n",
       "        vertical-align: middle;\n",
       "    }\n",
       "\n",
       "    .dataframe tbody tr th {\n",
       "        vertical-align: top;\n",
       "    }\n",
       "\n",
       "    .dataframe thead th {\n",
       "        text-align: right;\n",
       "    }\n",
       "</style>\n",
       "<table border=\"1\" class=\"dataframe\">\n",
       "  <thead>\n",
       "    <tr style=\"text-align: right;\">\n",
       "      <th></th>\n",
       "      <th>var1</th>\n",
       "      <th>var2</th>\n",
       "      <th>var3</th>\n",
       "      <th>var4</th>\n",
       "      <th>var5</th>\n",
       "      <th>result</th>\n",
       "      <th>pred</th>\n",
       "    </tr>\n",
       "  </thead>\n",
       "  <tbody>\n",
       "    <tr>\n",
       "      <td>0</td>\n",
       "      <td>634</td>\n",
       "      <td>666</td>\n",
       "      <td>61</td>\n",
       "      <td>0.316</td>\n",
       "      <td>0.159</td>\n",
       "      <td>0.416</td>\n",
       "      <td>0.392501</td>\n",
       "    </tr>\n",
       "    <tr>\n",
       "      <td>1</td>\n",
       "      <td>600</td>\n",
       "      <td>600</td>\n",
       "      <td>94</td>\n",
       "      <td>0.310</td>\n",
       "      <td>0.146</td>\n",
       "      <td>0.369</td>\n",
       "      <td>0.378625</td>\n",
       "    </tr>\n",
       "    <tr>\n",
       "      <td>2</td>\n",
       "      <td>611</td>\n",
       "      <td>605</td>\n",
       "      <td>93</td>\n",
       "      <td>0.311</td>\n",
       "      <td>0.146</td>\n",
       "      <td>0.416</td>\n",
       "      <td>0.379607</td>\n",
       "    </tr>\n",
       "    <tr>\n",
       "      <td>3</td>\n",
       "      <td>634</td>\n",
       "      <td>606</td>\n",
       "      <td>69</td>\n",
       "      <td>0.315</td>\n",
       "      <td>0.160</td>\n",
       "      <td>0.415</td>\n",
       "      <td>0.391424</td>\n",
       "    </tr>\n",
       "    <tr>\n",
       "      <td>4</td>\n",
       "      <td>613</td>\n",
       "      <td>659</td>\n",
       "      <td>61</td>\n",
       "      <td>0.301</td>\n",
       "      <td>0.140</td>\n",
       "      <td>0.366</td>\n",
       "      <td>0.359977</td>\n",
       "    </tr>\n",
       "    <tr>\n",
       "      <td>...</td>\n",
       "      <td>...</td>\n",
       "      <td>...</td>\n",
       "      <td>...</td>\n",
       "      <td>...</td>\n",
       "      <td>...</td>\n",
       "      <td>...</td>\n",
       "      <td>...</td>\n",
       "    </tr>\n",
       "    <tr>\n",
       "      <td>1145</td>\n",
       "      <td>616</td>\n",
       "      <td>606</td>\n",
       "      <td>66</td>\n",
       "      <td>0.315</td>\n",
       "      <td>0.150</td>\n",
       "      <td>0.360</td>\n",
       "      <td>0.374140</td>\n",
       "    </tr>\n",
       "    <tr>\n",
       "      <td>1146</td>\n",
       "      <td>641</td>\n",
       "      <td>696</td>\n",
       "      <td>101</td>\n",
       "      <td>0.336</td>\n",
       "      <td>0.166</td>\n",
       "      <td>0.400</td>\n",
       "      <td>0.428083</td>\n",
       "    </tr>\n",
       "    <tr>\n",
       "      <td>1147</td>\n",
       "      <td>696</td>\n",
       "      <td>613</td>\n",
       "      <td>91</td>\n",
       "      <td>0.336</td>\n",
       "      <td>0.160</td>\n",
       "      <td>0.411</td>\n",
       "      <td>0.410148</td>\n",
       "    </tr>\n",
       "    <tr>\n",
       "      <td>1148</td>\n",
       "      <td>630</td>\n",
       "      <td>665</td>\n",
       "      <td>66</td>\n",
       "      <td>0.316</td>\n",
       "      <td>0.151</td>\n",
       "      <td>0.403</td>\n",
       "      <td>0.382711</td>\n",
       "    </tr>\n",
       "    <tr>\n",
       "      <td>1149</td>\n",
       "      <td>616</td>\n",
       "      <td>946</td>\n",
       "      <td>40</td>\n",
       "      <td>0.316</td>\n",
       "      <td>0.140</td>\n",
       "      <td>0.361</td>\n",
       "      <td>0.382022</td>\n",
       "    </tr>\n",
       "  </tbody>\n",
       "</table>\n",
       "<p>1150 rows × 7 columns</p>\n",
       "</div>"
      ],
      "text/plain": [
       "      var1  var2  var3   var4   var5  result      pred\n",
       "0      634   666    61  0.316  0.159   0.416  0.392501\n",
       "1      600   600    94  0.310  0.146   0.369  0.378625\n",
       "2      611   605    93  0.311  0.146   0.416  0.379607\n",
       "3      634   606    69  0.315  0.160   0.415  0.391424\n",
       "4      613   659    61  0.301  0.140   0.366  0.359977\n",
       "...    ...   ...   ...    ...    ...     ...       ...\n",
       "1145   616   606    66  0.315  0.150   0.360  0.374140\n",
       "1146   641   696   101  0.336  0.166   0.400  0.428083\n",
       "1147   696   613    91  0.336  0.160   0.411  0.410148\n",
       "1148   630   665    66  0.316  0.151   0.403  0.382711\n",
       "1149   616   946    40  0.316  0.140   0.361  0.382022\n",
       "\n",
       "[1150 rows x 7 columns]"
      ]
     },
     "execution_count": 76,
     "metadata": {},
     "output_type": "execute_result"
    }
   ],
   "source": [
    "data['pred'] = pred\n",
    "data"
   ]
  },
  {
   "cell_type": "code",
   "execution_count": null,
   "metadata": {},
   "outputs": [],
   "source": []
  },
  {
   "cell_type": "code",
   "execution_count": null,
   "metadata": {},
   "outputs": [],
   "source": []
  },
  {
   "cell_type": "code",
   "execution_count": null,
   "metadata": {},
   "outputs": [],
   "source": []
  },
  {
   "cell_type": "code",
   "execution_count": null,
   "metadata": {},
   "outputs": [],
   "source": []
  },
  {
   "cell_type": "code",
   "execution_count": null,
   "metadata": {},
   "outputs": [],
   "source": []
  }
 ],
 "metadata": {
  "kernelspec": {
   "display_name": "Python 3",
   "language": "python",
   "name": "python3"
  },
  "language_info": {
   "codemirror_mode": {
    "name": "ipython",
    "version": 3
   },
   "file_extension": ".py",
   "mimetype": "text/x-python",
   "name": "python",
   "nbconvert_exporter": "python",
   "pygments_lexer": "ipython3",
   "version": "3.7.4"
  }
 },
 "nbformat": 4,
 "nbformat_minor": 2
}
