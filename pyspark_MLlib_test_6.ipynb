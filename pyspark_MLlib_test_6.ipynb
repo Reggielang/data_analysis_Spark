{
 "cells": [
  {
   "cell_type": "code",
   "execution_count": 1,
   "metadata": {},
   "outputs": [],
   "source": [
    "from pyspark import SparkConf\n",
    "from pyspark.sql import SparkSession\n",
    "from pyspark.ml.linalg import Vectors\n",
    "from pyspark.ml.feature import StringIndexer\n",
    "from pyspark.ml.classification import GBTClassifier\n",
    "from pyspark.sql import Row\n",
    "import pandas as pd\n",
    "from sklearn import metrics"
   ]
  },
  {
   "cell_type": "code",
   "execution_count": 2,
   "metadata": {},
   "outputs": [],
   "source": [
    "import os\n",
    "os.chdir(r\"C:\\Users\\REGGIE\\Desktop\\student\\数据分析资料\\Spark学习\\data\")"
   ]
  },
  {
   "cell_type": "code",
   "execution_count": 3,
   "metadata": {},
   "outputs": [],
   "source": [
    " appname = \"GBTClassifier\"\n",
    "master =\"local\" \n",
    "conf = SparkConf().setAppName(appname).setMaster(master)  #spark配置                \n",
    "spark=SparkSession.builder.config(conf=conf).getOrCreate()#spark实例化"
   ]
  },
  {
   "cell_type": "code",
   "execution_count": 4,
   "metadata": {},
   "outputs": [],
   "source": [
    "#读取数据\n",
    "data=spark.read.csv('broadband.csv',header=True)"
   ]
  },
  {
   "cell_type": "code",
   "execution_count": 5,
   "metadata": {},
   "outputs": [
    {
     "name": "stdout",
     "output_type": "stream",
     "text": [
      "root\n",
      " |-- CUST_ID: integer (nullable = true)\n",
      " |-- GENDER: integer (nullable = true)\n",
      " |-- AGE: integer (nullable = true)\n",
      " |-- TENURE: integer (nullable = true)\n",
      " |-- CHANNEL: integer (nullable = true)\n",
      " |-- AUTOPAY: integer (nullable = true)\n",
      " |-- ARPB_3M: integer (nullable = true)\n",
      " |-- CALL_PARTY_CNT: integer (nullable = true)\n",
      " |-- DAY_MOU: integer (nullable = true)\n",
      " |-- AFTERNOON_MOU: integer (nullable = true)\n",
      " |-- NIGHT_MOU: integer (nullable = true)\n",
      " |-- AVG_CALL_LENGTH: integer (nullable = true)\n",
      " |-- BROADBAND: integer (nullable = true)\n",
      "\n"
     ]
    }
   ],
   "source": [
    "#转换数据类型\n",
    "from pyspark.sql.types import IntegerType\n",
    "for i in data.columns:\n",
    "    data = data.withColumn(i, data[i].cast(IntegerType()))\n",
    "    \n",
    "data.printSchema()"
   ]
  },
  {
   "cell_type": "code",
   "execution_count": 6,
   "metadata": {},
   "outputs": [
    {
     "name": "stdout",
     "output_type": "stream",
     "text": [
      "样本数:1114\n"
     ]
    }
   ],
   "source": [
    "#构造features和label\n",
    "dataset= data.rdd.map(lambda x:Row(label=x[-1], features=Vectors.dense(x[1:-1]))).toDF()    \n",
    "train_num = dataset.count()\n",
    "print(\"样本数:{}\".format(train_num))"
   ]
  },
  {
   "cell_type": "code",
   "execution_count": 7,
   "metadata": {},
   "outputs": [
    {
     "name": "stdout",
     "output_type": "stream",
     "text": [
      "+--------------------+-----+\n",
      "|            features|label|\n",
      "+--------------------+-----+\n",
      "|[1.0,34.0,27.0,2....|    1|\n",
      "|[0.0,62.0,58.0,1....|    1|\n",
      "|[1.0,39.0,55.0,3....|    0|\n",
      "|[1.0,39.0,55.0,3....|    0|\n",
      "|[1.0,39.0,55.0,3....|    0|\n",
      "+--------------------+-----+\n",
      "only showing top 5 rows\n",
      "\n"
     ]
    }
   ],
   "source": [
    "dataset.show(5)"
   ]
  },
  {
   "cell_type": "code",
   "execution_count": 8,
   "metadata": {},
   "outputs": [
    {
     "name": "stdout",
     "output_type": "stream",
     "text": [
      "train set (859, 2)\n",
      "test set (255, 2)\n"
     ]
    }
   ],
   "source": [
    "#分割数据集\n",
    "train_df , test_df = dataset.randomSplit([0.75, 0.25])\n",
    "print('train set (%d, %d)'%(train_df.count(), len(train_df.columns)))\n",
    "print('test set (%d, %d)'%(test_df.count(), len(test_df.columns)))"
   ]
  },
  {
   "cell_type": "code",
   "execution_count": 12,
   "metadata": {},
   "outputs": [],
   "source": [
    "#使用模型\n",
    "rf = GBTClassifier(maxIter=50, labelCol=\"label\", seed=7)"
   ]
  },
  {
   "cell_type": "code",
   "execution_count": 13,
   "metadata": {},
   "outputs": [],
   "source": [
    "model = rf.fit(train_df)"
   ]
  },
  {
   "cell_type": "code",
   "execution_count": 14,
   "metadata": {},
   "outputs": [
    {
     "name": "stdout",
     "output_type": "stream",
     "text": [
      "模型特征重要性:(11,[0,1,2,3,4,5,6,7,8,9,10],[0.03128282466055808,0.1615129242019249,0.1600791739706802,0.03847794808214459,0.029869783871444615,0.21065720491998208,0.10274378955063096,0.07631973881407213,0.09327643341585982,0.045304765666923236,0.050475412845779485])\n",
      "模型特征数:11\n"
     ]
    }
   ],
   "source": [
    "#输出模型特征重要性、子树权重\n",
    "print(\"模型特征重要性:{}\".format(model.featureImportances))\n",
    "print(\"模型特征数:{}\".format(model.numFeatures))"
   ]
  },
  {
   "cell_type": "code",
   "execution_count": 15,
   "metadata": {},
   "outputs": [],
   "source": [
    "model_predict = model.transform(test_df)"
   ]
  },
  {
   "cell_type": "code",
   "execution_count": 16,
   "metadata": {},
   "outputs": [
    {
     "name": "stdout",
     "output_type": "stream",
     "text": [
      "RF's accuracy is 0.925490\n",
      "RF's precision is 0.922649\n",
      "RF's precision is 0.875527\n"
     ]
    }
   ],
   "source": [
    "from pyspark.ml.evaluation import MulticlassClassificationEvaluator\n",
    "from pyspark.ml.evaluation import BinaryClassificationEvaluator      #auc\n",
    "\n",
    "GBDT_accuracy = MulticlassClassificationEvaluator(labelCol='label', metricName='accuracy').evaluate(model_predict)\n",
    "GBDT_precision = MulticlassClassificationEvaluator(labelCol='label', metricName='weightedPrecision').evaluate(model_predict)\n",
    "GBDT_auc = BinaryClassificationEvaluator(labelCol='label').evaluate(model_predict)\n",
    "print(\"GBDT's accuracy is %f\"%rf_accuracy)\n",
    "print(\"GBDT's precision is %f\"%rf_precision)\n",
    "print(\"GBDT's precision is %f\"%rf_auc)"
   ]
  },
  {
   "cell_type": "code",
   "execution_count": 18,
   "metadata": {},
   "outputs": [
    {
     "name": "stdout",
     "output_type": "stream",
     "text": [
      "+--------------------+-----+--------------------+--------------------+----------+\n",
      "|            features|label|       rawPrediction|         probability|prediction|\n",
      "+--------------------+-----+--------------------+--------------------+----------+\n",
      "|[0.0,19.0,11.0,1....|    0|[1.28764563229668...|[0.92925433848003...|       0.0|\n",
      "|[0.0,19.0,11.0,1....|    0|[1.28764563229668...|[0.92925433848003...|       0.0|\n",
      "|[0.0,20.0,1.0,1.0...|    0|[1.67236129231659...|[0.96593159436666...|       0.0|\n",
      "|[0.0,21.0,43.0,2....|    0|[1.30061628881052...|[0.93094086414027...|       0.0|\n",
      "|[0.0,22.0,42.0,4....|    0|[1.46340091350368...|[0.94915555504048...|       0.0|\n",
      "|[0.0,22.0,42.0,4....|    0|[1.46340091350368...|[0.94915555504048...|       0.0|\n",
      "|[0.0,24.0,4.0,1.0...|    0|[1.07523502219277...|[0.89571269258325...|       0.0|\n",
      "|[0.0,24.0,6.0,3.0...|    0|[0.17840834185133...|[0.58826962511894...|       0.0|\n",
      "|[0.0,26.0,11.0,4....|    0|[1.76045273381727...|[0.97127677577354...|       0.0|\n",
      "|[0.0,26.0,11.0,4....|    0|[1.76045273381727...|[0.97127677577354...|       0.0|\n",
      "|[0.0,27.0,6.0,1.0...|    0|[1.58793093928509...|[0.95991574413045...|       0.0|\n",
      "|[0.0,27.0,7.0,4.0...|    0|[1.76625886717352...|[0.97159897026054...|       0.0|\n",
      "|[0.0,27.0,19.0,4....|    0|[1.81394391741673...|[0.97411555771641...|       0.0|\n",
      "|[0.0,27.0,19.0,4....|    0|[1.81394391741673...|[0.97411555771641...|       0.0|\n",
      "|[0.0,27.0,24.0,2....|    0|[1.48022007699910...|[0.95075460614079...|       0.0|\n",
      "|[0.0,28.0,9.0,2.0...|    0|[1.40029401068313...|[0.94270759139716...|       0.0|\n",
      "|[0.0,28.0,9.0,2.0...|    0|[1.40029401068313...|[0.94270759139716...|       0.0|\n",
      "|[0.0,28.0,10.0,4....|    0|[1.64644490369270...|[0.96418408220822...|       0.0|\n",
      "|[0.0,28.0,10.0,4....|    0|[1.64644490369270...|[0.96418408220822...|       0.0|\n",
      "|[0.0,28.0,14.0,1....|    0|[1.78461829604432...|[0.97259484843154...|       0.0|\n",
      "|[0.0,29.0,19.0,1....|    0|[1.60919234310219...|[0.96152029400849...|       0.0|\n",
      "|[0.0,30.0,1.0,1.0...|    0|[1.57052349326863...|[0.95855449511918...|       0.0|\n",
      "|[0.0,30.0,5.0,2.0...|    0|[1.77413464265186...|[0.97203041119265...|       0.0|\n",
      "|[0.0,30.0,26.0,4....|    0|[1.52390486791726...|[0.95468787231597...|       0.0|\n",
      "|[0.0,31.0,4.0,4.0...|    0|[1.85499306284482...|[0.97610698701298...|       0.0|\n",
      "|[0.0,31.0,19.0,2....|    0|[1.49854239052870...|[0.95244225307363...|       0.0|\n",
      "|[0.0,31.0,19.0,2....|    0|[1.49854239052870...|[0.95244225307363...|       0.0|\n",
      "|[0.0,31.0,19.0,2....|    0|[1.49854239052870...|[0.95244225307363...|       0.0|\n",
      "|[0.0,31.0,38.0,4....|    0|[1.02250336799779...|[0.88544210403063...|       0.0|\n",
      "|[0.0,31.0,44.0,1....|    0|[0.69172561938750...|[0.79954471240000...|       0.0|\n",
      "|[0.0,31.0,44.0,1....|    0|[0.69172561938750...|[0.79954471240000...|       0.0|\n",
      "|[0.0,32.0,11.0,4....|    0|[1.73199835477419...|[0.96964582215728...|       0.0|\n",
      "|[0.0,32.0,11.0,4....|    0|[1.73199835477419...|[0.96964582215728...|       0.0|\n",
      "|[0.0,32.0,54.0,3....|    0|[1.53636134047523...|[0.95575345426958...|       0.0|\n",
      "|[0.0,33.0,17.0,4....|    0|[1.86439153351655...|[0.97654147071097...|       0.0|\n",
      "|[0.0,33.0,17.0,4....|    0|[1.86439153351655...|[0.97654147071097...|       0.0|\n",
      "|[0.0,33.0,17.0,4....|    0|[1.86439153351655...|[0.97654147071097...|       0.0|\n",
      "|[0.0,33.0,37.0,4....|    1|[-1.1458526867282...|[0.09181225216030...|       1.0|\n",
      "|[0.0,34.0,5.0,1.0...|    0|[1.49496392308733...|[0.95211702075009...|       0.0|\n",
      "|[0.0,34.0,30.0,1....|    0|[1.07143633287306...|[0.89500087374145...|       0.0|\n",
      "|[0.0,34.0,45.0,2....|    0|[1.68747938527530...|[0.96691270260236...|       0.0|\n",
      "|[0.0,35.0,7.0,1.0...|    0|[1.55488823554337...|[0.95729421840719...|       0.0|\n",
      "|[0.0,35.0,17.0,4....|    0|[1.74818482992065...|[0.97058429840055...|       0.0|\n",
      "|[0.0,35.0,17.0,4....|    0|[1.74818482992065...|[0.97058429840055...|       0.0|\n",
      "|[0.0,35.0,17.0,4....|    0|[1.74818482992065...|[0.97058429840055...|       0.0|\n",
      "|[0.0,35.0,20.0,2....|    0|[1.82883307035360...|[0.97485589392309...|       0.0|\n",
      "|[0.0,35.0,20.0,4....|    0|[1.82095729487527...|[0.97446689221646...|       0.0|\n",
      "|[0.0,35.0,22.0,2....|    0|[1.49698407816088...|[0.95230088318559...|       0.0|\n",
      "|[0.0,35.0,23.0,1....|    0|[1.83225656325586...|[0.97502318185545...|       0.0|\n",
      "|[0.0,35.0,23.0,1....|    0|[1.83225656325586...|[0.97502318185545...|       0.0|\n",
      "|[0.0,35.0,23.0,4....|    0|[1.73770018147979...|[0.96997967201682...|       0.0|\n",
      "|[0.0,35.0,29.0,3....|    0|[0.75678933317349...|[0.81959095956402...|       0.0|\n",
      "|[0.0,35.0,48.0,3....|    0|[0.80917166395100...|[0.83456652773990...|       0.0|\n",
      "|[0.0,36.0,1.0,2.0...|    0|[1.30011466609127...|[0.93087633762756...|       0.0|\n",
      "|[0.0,36.0,13.0,1....|    0|[1.42355857359220...|[0.94516947300818...|       0.0|\n",
      "|[0.0,36.0,20.0,2....|    0|[1.83438549613559...|[0.97512666410310...|       0.0|\n",
      "|[0.0,38.0,13.0,4....|    0|[1.76652300124133...|[0.97161354387765...|       0.0|\n",
      "|[0.0,38.0,28.0,4....|    0|[1.60419813052853...|[0.96114902366662...|       0.0|\n",
      "|[0.0,38.0,40.0,3....|    0|[0.72702919406590...|[0.81062223819805...|       0.0|\n",
      "|[0.0,38.0,64.0,2....|    1|[-1.5209931781262...|[0.04556470898082...|       1.0|\n",
      "|[0.0,39.0,22.0,2....|    0|[1.60793729528441...|[0.96142731527101...|       0.0|\n",
      "|[0.0,39.0,22.0,2....|    0|[1.60793729528441...|[0.96142731527101...|       0.0|\n",
      "|[0.0,39.0,22.0,2....|    0|[1.60793729528441...|[0.96142731527101...|       0.0|\n",
      "|[0.0,39.0,25.0,2....|    0|[1.76018466949896...|[0.97126181496956...|       0.0|\n",
      "|[0.0,39.0,44.0,4....|    0|[1.25194575314169...|[0.92441417914589...|       0.0|\n",
      "|[0.0,40.0,7.0,4.0...|    0|[1.18764371012175...|[0.91492333005925...|       0.0|\n",
      "|[0.0,40.0,67.0,3....|    1|[-1.6514076028223...|[0.03547473733727...|       1.0|\n",
      "|[0.0,41.0,9.0,1.0...|    0|[1.71531130545115...|[0.96864798138370...|       0.0|\n",
      "|[0.0,41.0,13.0,1....|    0|[0.71558513360634...|[0.80708359146668...|       0.0|\n",
      "|[0.0,41.0,22.0,1....|    0|[1.51082736918381...|[0.95354288353472...|       0.0|\n",
      "|[0.0,41.0,22.0,1....|    0|[1.51082736918381...|[0.95354288353472...|       0.0|\n",
      "|[0.0,41.0,48.0,2....|    1|[-1.3925906358891...|[0.05813022487961...|       1.0|\n",
      "|[0.0,41.0,65.0,2....|    1|[1.37641445680718...|[0.94007291755859...|       0.0|\n",
      "|[0.0,42.0,17.0,2....|    0|[1.70945957406215...|[0.96829060203212...|       0.0|\n",
      "|[0.0,42.0,17.0,2....|    0|[1.70945957406215...|[0.96829060203212...|       0.0|\n",
      "|[0.0,42.0,17.0,2....|    0|[1.70945957406215...|[0.96829060203212...|       0.0|\n",
      "|[0.0,42.0,17.0,2....|    0|[1.80948144692324...|[0.97388956557074...|       0.0|\n",
      "|[0.0,42.0,17.0,2....|    0|[1.80948144692324...|[0.97388956557074...|       0.0|\n",
      "|[0.0,42.0,17.0,2....|    0|[0.99564387222994...|[0.87987930804204...|       0.0|\n",
      "|[0.0,42.0,66.0,2....|    1|[-1.7915540522161...|[0.02703783265091...|       1.0|\n",
      "|[0.0,43.0,61.0,4....|    0|[1.43661324451673...|[0.94650694567051...|       0.0|\n",
      "|[0.0,45.0,33.0,3....|    0|[1.02293999248234...|[0.88553065169266...|       0.0|\n",
      "|[0.0,45.0,41.0,1....|    0|[0.73197717793136...|[0.81213673826493...|       0.0|\n",
      "|[0.0,46.0,56.0,2....|    1|[-0.6253132184546...|[0.22259171843490...|       1.0|\n",
      "|[0.0,46.0,69.0,2....|    1|[-1.4989742821841...|[0.04751863627827...|       1.0|\n",
      "|[0.0,47.0,36.0,1....|    1|[0.30685482399682...|[0.64878655781136...|       0.0|\n",
      "|[0.0,47.0,48.0,4....|    0|[0.70529978132756...|[0.80386049318151...|       0.0|\n",
      "|[0.0,47.0,55.0,3....|    1|[0.58492683696373...|[0.76311856558299...|       0.0|\n",
      "|[0.0,47.0,67.0,3....|    1|[-0.4136097641916...|[0.30423330705291...|       1.0|\n",
      "|[0.0,47.0,69.0,3....|    0|[-1.4858574489541...|[0.04872018190142...|       1.0|\n",
      "|[0.0,47.0,69.0,3....|    0|[-1.4858574489541...|[0.04872018190142...|       1.0|\n",
      "|[0.0,47.0,69.0,3....|    0|[-1.4858574489541...|[0.04872018190142...|       1.0|\n",
      "|[0.0,48.0,11.0,3....|    0|[1.61057951329004...|[0.96162281054919...|       0.0|\n",
      "|[0.0,48.0,11.0,3....|    0|[1.61057951329004...|[0.96162281054919...|       0.0|\n",
      "|[0.0,48.0,16.0,3....|    0|[1.70427310657130...|[0.96797056060180...|       0.0|\n",
      "|[0.0,48.0,16.0,3....|    0|[1.70427310657130...|[0.96797056060180...|       0.0|\n",
      "|[0.0,48.0,22.0,1....|    0|[1.55125811297103...|[0.95699641767045...|       0.0|\n",
      "|[0.0,48.0,22.0,1....|    0|[1.55125811297103...|[0.95699641767045...|       0.0|\n",
      "|[0.0,48.0,46.0,3....|    1|[0.59443633158562...|[0.76653938030692...|       0.0|\n",
      "|[0.0,49.0,46.0,1....|    0|[0.73285979208178...|[0.81240591192330...|       0.0|\n",
      "+--------------------+-----+--------------------+--------------------+----------+\n",
      "only showing top 100 rows\n",
      "\n"
     ]
    }
   ],
   "source": [
    "model_predict.show(100)"
   ]
  },
  {
   "cell_type": "code",
   "execution_count": null,
   "metadata": {},
   "outputs": [],
   "source": []
  },
  {
   "cell_type": "code",
   "execution_count": 19,
   "metadata": {},
   "outputs": [],
   "source": [
    "#sklearn中使用GBDT\n",
    "from sklearn.model_selection import train_test_split\n",
    "import sklearn.ensemble as ensemble\n",
    "import pandas as pd\n",
    "import sklearn.metrics as metrics\n",
    "from sklearn.model_selection import GridSearchCV"
   ]
  },
  {
   "cell_type": "code",
   "execution_count": 25,
   "metadata": {},
   "outputs": [],
   "source": [
    "#读取数据\n",
    "model_data=pd.read_csv('broadband.csv')"
   ]
  },
  {
   "cell_type": "code",
   "execution_count": 26,
   "metadata": {},
   "outputs": [
    {
     "name": "stdout",
     "output_type": "stream",
     "text": [
      "835 279\n"
     ]
    }
   ],
   "source": [
    "#划分训练集和测试集\n",
    "X = model_data.iloc[ :,1:-1]\n",
    "Y = model_data['BROADBAND']\n",
    "train_data, test_data, train_target, test_target = train_test_split(X,Y,test_size=0.25, train_size=0.75, random_state=12345)\n",
    "print(len(train_data),len(test_data))"
   ]
  },
  {
   "cell_type": "code",
   "execution_count": 44,
   "metadata": {},
   "outputs": [],
   "source": [
    "#GBDT\n",
    "param_grid = {\n",
    "    'loss':['deviance','exponential'],\n",
    "    'learning_rate':[0.1,0.3,0.5,0.7,1],\n",
    "    'n_estimators':[10,15,20,30,40,50],  #决策树个数-GBDT特有参数\n",
    "    'max_depth':[1,2,3,4,5,6,7,8],  #单棵树最大深度-GBDT特有参数\n",
    "    'min_samples_split':[2,4,8,12] \n",
    "    \n",
    "}"
   ]
  },
  {
   "cell_type": "code",
   "execution_count": 45,
   "metadata": {},
   "outputs": [
    {
     "data": {
      "text/plain": [
       "GridSearchCV(cv=4, error_score=nan,\n",
       "             estimator=GradientBoostingClassifier(ccp_alpha=0.0,\n",
       "                                                  criterion='friedman_mse',\n",
       "                                                  init=None, learning_rate=0.1,\n",
       "                                                  loss='deviance', max_depth=3,\n",
       "                                                  max_features=None,\n",
       "                                                  max_leaf_nodes=None,\n",
       "                                                  min_impurity_decrease=0.0,\n",
       "                                                  min_impurity_split=None,\n",
       "                                                  min_samples_leaf=1,\n",
       "                                                  min_samples_split=2,\n",
       "                                                  min_weight_fraction_leaf=0.0,\n",
       "                                                  n_estimators=100,\n",
       "                                                  n_iter_no_c...\n",
       "                                                  validation_fraction=0.1,\n",
       "                                                  verbose=0, warm_start=False),\n",
       "             iid='deprecated', n_jobs=None,\n",
       "             param_grid={'learning_rate': [0.1, 0.3, 0.5, 0.7, 1],\n",
       "                         'loss': ['deviance', 'exponential'],\n",
       "                         'max_depth': [1, 2, 3, 4, 5, 6, 7, 8],\n",
       "                         'min_samples_split': [2, 4, 8, 12, 16, 20],\n",
       "                         'n_estimators': [10, 15, 20, 30, 40, 50]},\n",
       "             pre_dispatch='2*n_jobs', refit=True, return_train_score=False,\n",
       "             scoring='roc_auc', verbose=0)"
      ]
     },
     "execution_count": 45,
     "metadata": {},
     "output_type": "execute_result"
    }
   ],
   "source": [
    "gbc = ensemble.GradientBoostingClassifier()\n",
    "gbccv = GridSearchCV(estimator=gbc, param_grid=param_grid, scoring='roc_auc', cv=4)\n",
    "gbccv.fit(train_data, train_target)"
   ]
  },
  {
   "cell_type": "code",
   "execution_count": 46,
   "metadata": {},
   "outputs": [],
   "source": [
    "predict = gbccv.predict(test_data)"
   ]
  },
  {
   "cell_type": "code",
   "execution_count": 47,
   "metadata": {},
   "outputs": [
    {
     "name": "stdout",
     "output_type": "stream",
     "text": [
      "gradient boosting accuracy:\n",
      "              precision    recall  f1-score   support\n",
      "\n",
      "           0       0.90      0.97      0.93       229\n",
      "           1       0.78      0.50      0.61        50\n",
      "\n",
      "    accuracy                           0.89       279\n",
      "   macro avg       0.84      0.73      0.77       279\n",
      "weighted avg       0.88      0.89      0.87       279\n",
      "\n",
      "gradient boosting AUC:\n",
      "AUC = 0.7347\n"
     ]
    }
   ],
   "source": [
    "print(\"gradient boosting accuracy:\")\n",
    "print(metrics.classification_report(test_target,predict))\n",
    "print(\"gradient boosting AUC:\")\n",
    "fpr_test, tpr_test, th_test = metrics.roc_curve(test_target, predict)\n",
    "print('AUC = %.4f' %metrics.auc(fpr_test, tpr_test))"
   ]
  },
  {
   "cell_type": "code",
   "execution_count": 48,
   "metadata": {},
   "outputs": [
    {
     "data": {
      "text/plain": [
       "{'learning_rate': 0.5,\n",
       " 'loss': 'exponential',\n",
       " 'max_depth': 7,\n",
       " 'min_samples_split': 4,\n",
       " 'n_estimators': 50}"
      ]
     },
     "execution_count": 48,
     "metadata": {},
     "output_type": "execute_result"
    }
   ],
   "source": [
    "#%%\n",
    "gbccv.best_params_\n",
    "#确认模型最佳参数，可以使用最佳参数，进行最优模型的建立"
   ]
  }
 ],
 "metadata": {
  "kernelspec": {
   "display_name": "Python 3",
   "language": "python",
   "name": "python3"
  },
  "language_info": {
   "codemirror_mode": {
    "name": "ipython",
    "version": 3
   },
   "file_extension": ".py",
   "mimetype": "text/x-python",
   "name": "python",
   "nbconvert_exporter": "python",
   "pygments_lexer": "ipython3",
   "version": "3.7.4"
  }
 },
 "nbformat": 4,
 "nbformat_minor": 2
}
