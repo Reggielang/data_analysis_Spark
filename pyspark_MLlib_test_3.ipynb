{
 "cells": [
  {
   "cell_type": "code",
   "execution_count": 59,
   "metadata": {},
   "outputs": [],
   "source": [
    "from pyspark import SparkConf\n",
    "from pyspark.sql import SparkSession\n",
    "from pyspark.ml.linalg import Vectors\n",
    "from pyspark.ml.feature import StringIndexer\n",
    "from pyspark.ml.classification import RandomForestClassifier\n",
    "from pyspark.sql import Row\n",
    "import pandas as pd\n",
    "from sklearn import metrics"
   ]
  },
  {
   "cell_type": "code",
   "execution_count": 4,
   "metadata": {},
   "outputs": [],
   "source": [
    "import os\n",
    "os.chdir(r\"C:\\Users\\REGGIE\\Desktop\\student\\数据分析资料\\Spark学习\\data\")"
   ]
  },
  {
   "cell_type": "code",
   "execution_count": 61,
   "metadata": {},
   "outputs": [],
   "source": [
    "appname = \"RandomForestClassifier\"\n",
    "master =\"local[4]\" \n",
    "conf = SparkConf().setAppName(appname).setMaster(master)  #spark配置                \n",
    "spark=SparkSession.builder.config(conf=conf).getOrCreate()#spark实例化\n",
    "#读取数据\n",
    "data=spark.read.csv('broadband.csv',header=True)"
   ]
  },
  {
   "cell_type": "code",
   "execution_count": 62,
   "metadata": {},
   "outputs": [
    {
     "data": {
      "text/plain": [
       "DataFrame[CUST_ID: string, GENDER: string, AGE: string, TENURE: string, CHANNEL: string, AUTOPAY: string, ARPB_3M: string, CALL_PARTY_CNT: string, DAY_MOU: string, AFTERNOON_MOU: string, NIGHT_MOU: string, AVG_CALL_LENGTH: string, BROADBAND: string]"
      ]
     },
     "execution_count": 62,
     "metadata": {},
     "output_type": "execute_result"
    }
   ],
   "source": [
    "data"
   ]
  },
  {
   "cell_type": "code",
   "execution_count": 63,
   "metadata": {},
   "outputs": [
    {
     "name": "stdout",
     "output_type": "stream",
     "text": [
      "root\n",
      " |-- CUST_ID: integer (nullable = true)\n",
      " |-- GENDER: integer (nullable = true)\n",
      " |-- AGE: integer (nullable = true)\n",
      " |-- TENURE: integer (nullable = true)\n",
      " |-- CHANNEL: integer (nullable = true)\n",
      " |-- AUTOPAY: integer (nullable = true)\n",
      " |-- ARPB_3M: integer (nullable = true)\n",
      " |-- CALL_PARTY_CNT: integer (nullable = true)\n",
      " |-- DAY_MOU: integer (nullable = true)\n",
      " |-- AFTERNOON_MOU: integer (nullable = true)\n",
      " |-- NIGHT_MOU: integer (nullable = true)\n",
      " |-- AVG_CALL_LENGTH: integer (nullable = true)\n",
      " |-- BROADBAND: integer (nullable = true)\n",
      "\n"
     ]
    }
   ],
   "source": [
    "#转换数据类型\n",
    "from pyspark.sql.types import IntegerType\n",
    "for i in data.columns:\n",
    "    data = data.withColumn(i, data[i].cast(IntegerType()))\n",
    "    \n",
    "data.printSchema()"
   ]
  },
  {
   "cell_type": "code",
   "execution_count": 64,
   "metadata": {},
   "outputs": [
    {
     "name": "stdout",
     "output_type": "stream",
     "text": [
      "样本数:1114\n"
     ]
    }
   ],
   "source": [
    "#构造features和label\n",
    "dataset= data.rdd.map(lambda x:Row(label=x[-1], features=Vectors.dense(x[1:-1]))).toDF()    \n",
    "train_num = dataset.count()\n",
    "print(\"样本数:{}\".format(train_num))"
   ]
  },
  {
   "cell_type": "code",
   "execution_count": 65,
   "metadata": {},
   "outputs": [
    {
     "name": "stdout",
     "output_type": "stream",
     "text": [
      "+--------------------+-----+\n",
      "|            features|label|\n",
      "+--------------------+-----+\n",
      "|[1.0,34.0,27.0,2....|    1|\n",
      "|[0.0,62.0,58.0,1....|    1|\n",
      "|[1.0,39.0,55.0,3....|    0|\n",
      "|[1.0,39.0,55.0,3....|    0|\n",
      "|[1.0,39.0,55.0,3....|    0|\n",
      "+--------------------+-----+\n",
      "only showing top 5 rows\n",
      "\n"
     ]
    }
   ],
   "source": [
    "dataset.show(5)"
   ]
  },
  {
   "cell_type": "code",
   "execution_count": 66,
   "metadata": {},
   "outputs": [
    {
     "name": "stdout",
     "output_type": "stream",
     "text": [
      "train set (843, 2)\n",
      "test set (271, 2)\n"
     ]
    }
   ],
   "source": [
    "#分割数据集\n",
    "train_df , test_df = dataset.randomSplit([0.75, 0.25])\n",
    "print('train set (%d, %d)'%(train_df.count(), len(train_df.columns)))\n",
    "print('test set (%d, %d)'%(test_df.count(), len(test_df.columns)))"
   ]
  },
  {
   "cell_type": "code",
   "execution_count": 67,
   "metadata": {},
   "outputs": [],
   "source": [
    "#使用模型\n",
    "rf = RandomForestClassifier(labelCol='label', numTrees=50)"
   ]
  },
  {
   "cell_type": "code",
   "execution_count": 70,
   "metadata": {},
   "outputs": [],
   "source": [
    "model = rf.fit(train_df)"
   ]
  },
  {
   "cell_type": "code",
   "execution_count": 72,
   "metadata": {},
   "outputs": [],
   "source": [
    "model_predict = model.transform(test_df)"
   ]
  },
  {
   "cell_type": "code",
   "execution_count": 77,
   "metadata": {},
   "outputs": [
    {
     "name": "stdout",
     "output_type": "stream",
     "text": [
      "RF's accuracy is 0.900369\n",
      "RF's precision is 0.910918\n",
      "RF's precision is 0.861179\n"
     ]
    }
   ],
   "source": [
    "from pyspark.ml.evaluation import MulticlassClassificationEvaluator\n",
    "from pyspark.ml.evaluation import BinaryClassificationEvaluator      #auc\n",
    "\n",
    "rf_accuracy = MulticlassClassificationEvaluator(labelCol='label', metricName='accuracy').evaluate(model_predict)\n",
    "rf_precision = MulticlassClassificationEvaluator(labelCol='label', metricName='weightedPrecision').evaluate(model_predict)\n",
    "rf_auc = BinaryClassificationEvaluator(labelCol='label').evaluate(model_predict)\n",
    "print(\"RF's accuracy is %f\"%rf_accuracy)\n",
    "print(\"RF's precision is %f\"%rf_precision)\n",
    "print(\"RF's precision is %f\"%rf_auc)"
   ]
  },
  {
   "cell_type": "code",
   "execution_count": 78,
   "metadata": {},
   "outputs": [
    {
     "name": "stdout",
     "output_type": "stream",
     "text": [
      "+--------------------+-----+--------------------+--------------------+----------+\n",
      "|            features|label|       rawPrediction|         probability|prediction|\n",
      "+--------------------+-----+--------------------+--------------------+----------+\n",
      "|[0.0,19.0,11.0,1....|    0|[44.7001148106879...|[0.89400229621375...|       0.0|\n",
      "|[0.0,19.0,11.0,1....|    0|[44.7001148106879...|[0.89400229621375...|       0.0|\n",
      "|[0.0,21.0,43.0,2....|    0|[37.9538126278311...|[0.75907625255662...|       0.0|\n",
      "|[0.0,21.0,43.0,2....|    0|[37.9538126278311...|[0.75907625255662...|       0.0|\n",
      "|[0.0,22.0,23.0,3....|    1|[41.3337303864649...|[0.82667460772929...|       0.0|\n",
      "|[0.0,22.0,42.0,4....|    0|[42.0530765933963...|[0.84106153186792...|       0.0|\n",
      "|[0.0,24.0,4.0,1.0...|    0|[44.0543265939989...|[0.88108653187997...|       0.0|\n",
      "|[0.0,24.0,39.0,1....|    0|[35.9543248683327...|[0.71908649736665...|       0.0|\n",
      "|[0.0,24.0,39.0,1....|    0|[35.9543248683327...|[0.71908649736665...|       0.0|\n",
      "|[0.0,24.0,39.0,1....|    0|[35.9543248683327...|[0.71908649736665...|       0.0|\n",
      "|[0.0,25.0,3.0,4.0...|    0|[46.6066376105296...|[0.93213275221059...|       0.0|\n",
      "|[0.0,25.0,23.0,4....|    0|[47.5489087621572...|[0.95097817524314...|       0.0|\n",
      "|[0.0,25.0,23.0,4....|    0|[47.5489087621572...|[0.95097817524314...|       0.0|\n",
      "|[0.0,25.0,23.0,4....|    0|[47.5489087621572...|[0.95097817524314...|       0.0|\n",
      "|[0.0,26.0,11.0,4....|    0|[47.5574819765219...|[0.95114963953043...|       0.0|\n",
      "|[0.0,27.0,7.0,1.0...|    0|[45.0099718054108...|[0.90019943610821...|       0.0|\n",
      "|[0.0,27.0,7.0,4.0...|    0|[47.4248735370122...|[0.94849747074024...|       0.0|\n",
      "|[0.0,27.0,7.0,4.0...|    0|[47.4248735370122...|[0.94849747074024...|       0.0|\n",
      "|[0.0,27.0,19.0,4....|    0|[47.3587223288512...|[0.94717444657702...|       0.0|\n",
      "|[0.0,27.0,19.0,4....|    0|[47.3587223288512...|[0.94717444657702...|       0.0|\n",
      "+--------------------+-----+--------------------+--------------------+----------+\n",
      "only showing top 20 rows\n",
      "\n"
     ]
    }
   ],
   "source": [
    "model_predict.show()"
   ]
  },
  {
   "cell_type": "code",
   "execution_count": null,
   "metadata": {},
   "outputs": [],
   "source": []
  },
  {
   "cell_type": "code",
   "execution_count": 5,
   "metadata": {},
   "outputs": [],
   "source": [
    "#sklearn中的随机森林\n",
    "#宽带营销的数据\"broadband.csv\"\n",
    "from sklearn.model_selection import train_test_split\n",
    "import sklearn.ensemble as ensemble\n",
    "import pandas as pd\n",
    "import sklearn.metrics as metrics\n",
    "from sklearn.model_selection import GridSearchCV"
   ]
  },
  {
   "cell_type": "code",
   "execution_count": 6,
   "metadata": {},
   "outputs": [
    {
     "data": {
      "text/html": [
       "<div>\n",
       "<style scoped>\n",
       "    .dataframe tbody tr th:only-of-type {\n",
       "        vertical-align: middle;\n",
       "    }\n",
       "\n",
       "    .dataframe tbody tr th {\n",
       "        vertical-align: top;\n",
       "    }\n",
       "\n",
       "    .dataframe thead th {\n",
       "        text-align: right;\n",
       "    }\n",
       "</style>\n",
       "<table border=\"1\" class=\"dataframe\">\n",
       "  <thead>\n",
       "    <tr style=\"text-align: right;\">\n",
       "      <th></th>\n",
       "      <th>CUST_ID</th>\n",
       "      <th>GENDER</th>\n",
       "      <th>AGE</th>\n",
       "      <th>TENURE</th>\n",
       "      <th>CHANNEL</th>\n",
       "      <th>AUTOPAY</th>\n",
       "      <th>ARPB_3M</th>\n",
       "      <th>CALL_PARTY_CNT</th>\n",
       "      <th>DAY_MOU</th>\n",
       "      <th>AFTERNOON_MOU</th>\n",
       "      <th>NIGHT_MOU</th>\n",
       "      <th>AVG_CALL_LENGTH</th>\n",
       "      <th>BROADBAND</th>\n",
       "    </tr>\n",
       "  </thead>\n",
       "  <tbody>\n",
       "    <tr>\n",
       "      <td>0</td>\n",
       "      <td>63</td>\n",
       "      <td>1</td>\n",
       "      <td>34</td>\n",
       "      <td>27</td>\n",
       "      <td>2</td>\n",
       "      <td>0</td>\n",
       "      <td>203</td>\n",
       "      <td>0</td>\n",
       "      <td>0.0</td>\n",
       "      <td>0.0</td>\n",
       "      <td>0.0</td>\n",
       "      <td>3.04</td>\n",
       "      <td>1</td>\n",
       "    </tr>\n",
       "    <tr>\n",
       "      <td>1</td>\n",
       "      <td>64</td>\n",
       "      <td>0</td>\n",
       "      <td>62</td>\n",
       "      <td>58</td>\n",
       "      <td>1</td>\n",
       "      <td>0</td>\n",
       "      <td>360</td>\n",
       "      <td>0</td>\n",
       "      <td>0.0</td>\n",
       "      <td>1910.0</td>\n",
       "      <td>0.0</td>\n",
       "      <td>3.30</td>\n",
       "      <td>1</td>\n",
       "    </tr>\n",
       "    <tr>\n",
       "      <td>2</td>\n",
       "      <td>65</td>\n",
       "      <td>1</td>\n",
       "      <td>39</td>\n",
       "      <td>55</td>\n",
       "      <td>3</td>\n",
       "      <td>0</td>\n",
       "      <td>304</td>\n",
       "      <td>0</td>\n",
       "      <td>437.2</td>\n",
       "      <td>200.3</td>\n",
       "      <td>0.0</td>\n",
       "      <td>4.92</td>\n",
       "      <td>0</td>\n",
       "    </tr>\n",
       "    <tr>\n",
       "      <td>3</td>\n",
       "      <td>66</td>\n",
       "      <td>1</td>\n",
       "      <td>39</td>\n",
       "      <td>55</td>\n",
       "      <td>3</td>\n",
       "      <td>0</td>\n",
       "      <td>304</td>\n",
       "      <td>0</td>\n",
       "      <td>437.2</td>\n",
       "      <td>182.8</td>\n",
       "      <td>0.0</td>\n",
       "      <td>4.92</td>\n",
       "      <td>0</td>\n",
       "    </tr>\n",
       "    <tr>\n",
       "      <td>4</td>\n",
       "      <td>67</td>\n",
       "      <td>1</td>\n",
       "      <td>39</td>\n",
       "      <td>55</td>\n",
       "      <td>3</td>\n",
       "      <td>0</td>\n",
       "      <td>304</td>\n",
       "      <td>0</td>\n",
       "      <td>437.2</td>\n",
       "      <td>214.5</td>\n",
       "      <td>0.0</td>\n",
       "      <td>4.92</td>\n",
       "      <td>0</td>\n",
       "    </tr>\n",
       "  </tbody>\n",
       "</table>\n",
       "</div>"
      ],
      "text/plain": [
       "   CUST_ID  GENDER  AGE  TENURE  CHANNEL  AUTOPAY  ARPB_3M  CALL_PARTY_CNT  \\\n",
       "0       63       1   34      27        2        0      203               0   \n",
       "1       64       0   62      58        1        0      360               0   \n",
       "2       65       1   39      55        3        0      304               0   \n",
       "3       66       1   39      55        3        0      304               0   \n",
       "4       67       1   39      55        3        0      304               0   \n",
       "\n",
       "   DAY_MOU  AFTERNOON_MOU  NIGHT_MOU  AVG_CALL_LENGTH  BROADBAND  \n",
       "0      0.0            0.0        0.0             3.04          1  \n",
       "1      0.0         1910.0        0.0             3.30          1  \n",
       "2    437.2          200.3        0.0             4.92          0  \n",
       "3    437.2          182.8        0.0             4.92          0  \n",
       "4    437.2          214.5        0.0             4.92          0  "
      ]
     },
     "execution_count": 6,
     "metadata": {},
     "output_type": "execute_result"
    }
   ],
   "source": [
    "model_data = pd.read_csv(\"broadband.csv\")\n",
    "model_data.head()"
   ]
  },
  {
   "cell_type": "code",
   "execution_count": 30,
   "metadata": {},
   "outputs": [
    {
     "name": "stdout",
     "output_type": "stream",
     "text": [
      "835 279\n"
     ]
    }
   ],
   "source": [
    "#划分训练集和测试集\n",
    "X = model_data.iloc[ :,1:-1]\n",
    "Y = model_data['BROADBAND']\n",
    "train_data, test_data, train_target, test_target = train_test_split(X,Y,test_size=0.25, train_size=0.75, random_state=12345)\n",
    "print(len(train_data),len(test_data))"
   ]
  },
  {
   "cell_type": "code",
   "execution_count": 51,
   "metadata": {},
   "outputs": [
    {
     "data": {
      "text/plain": [
       "GridSearchCV(cv=4, error_score=nan,\n",
       "             estimator=RandomForestClassifier(bootstrap=True, ccp_alpha=0.0,\n",
       "                                              class_weight=None,\n",
       "                                              criterion='gini', max_depth=None,\n",
       "                                              max_features='auto',\n",
       "                                              max_leaf_nodes=None,\n",
       "                                              max_samples=None,\n",
       "                                              min_impurity_decrease=0.0,\n",
       "                                              min_impurity_split=None,\n",
       "                                              min_samples_leaf=1,\n",
       "                                              min_samples_split=2,\n",
       "                                              min_weight_fraction_leaf=0.0,\n",
       "                                              n_estimators=100, n_jobs=None,...\n",
       "                                              random_state=None, verbose=0,\n",
       "                                              warm_start=False),\n",
       "             iid='deprecated', n_jobs=None,\n",
       "             param_grid={'criterion': ['entropy', 'gini'],\n",
       "                         'max_depth': [7, 8, 10, 12, 14, 16, 20],\n",
       "                         'max_features': [0.2, 0.3, 0.4, 0.5, 0.6, 0.7],\n",
       "                         'min_samples_split': [2, 4, 6, 8, 12, 16],\n",
       "                         'n_estimators': [11, 13, 15, 17, 19, 21, 23]},\n",
       "             pre_dispatch='2*n_jobs', refit=True, return_train_score=False,\n",
       "             scoring='roc_auc', verbose=0)"
      ]
     },
     "execution_count": 51,
     "metadata": {},
     "output_type": "execute_result"
    }
   ],
   "source": [
    "#带网格搜索的随机森林\n",
    "#随机森林\n",
    "param_grid = {\n",
    "    'criterion':['entropy','gini'],\n",
    "    'max_depth':[7,8,10,12,14,16,20],\n",
    "    'n_estimators':[11,13,15,17,19,21,23],  #决策树个数-随机森林特有参数\n",
    "    'max_features':[0.2,0.3,0.4,0.5,0.6], #每棵决策树使用的变量占比-随机森林特有参数\n",
    "    'min_samples_split':[2,4,6,8,12,16] \n",
    "}\n",
    "\n",
    "rfc = ensemble.RandomForestClassifier()\n",
    "rfccv = GridSearchCV(estimator=rfc, param_grid=param_grid, scoring='roc_auc', cv=4)\n",
    "rfccv.fit(train_data, train_target)"
   ]
  },
  {
   "cell_type": "code",
   "execution_count": 52,
   "metadata": {},
   "outputs": [],
   "source": [
    "predict = rfccv.predict(test_data)"
   ]
  },
  {
   "cell_type": "code",
   "execution_count": 53,
   "metadata": {},
   "outputs": [
    {
     "name": "stdout",
     "output_type": "stream",
     "text": [
      "random forest accuracy:\n",
      "              precision    recall  f1-score   support\n",
      "\n",
      "           0       0.90      0.97      0.94       229\n",
      "           1       0.81      0.52      0.63        50\n",
      "\n",
      "    accuracy                           0.89       279\n",
      "   macro avg       0.86      0.75      0.79       279\n",
      "weighted avg       0.89      0.89      0.88       279\n",
      "\n",
      "random forest AUC:\n",
      "AUC = 0.7469\n"
     ]
    }
   ],
   "source": [
    "print(\"random forest accuracy:\")\n",
    "print(metrics.classification_report(test_target,predict))\n",
    "print(\"random forest AUC:\")\n",
    "fpr_test, tpr_test, th_test = metrics.roc_curve(test_target, predict)\n",
    "print('AUC = %.4f' %metrics.auc(fpr_test, tpr_test))"
   ]
  },
  {
   "cell_type": "code",
   "execution_count": 54,
   "metadata": {},
   "outputs": [
    {
     "data": {
      "text/plain": [
       "{'criterion': 'gini',\n",
       " 'max_depth': 16,\n",
       " 'max_features': 0.4,\n",
       " 'min_samples_split': 2,\n",
       " 'n_estimators': 19}"
      ]
     },
     "execution_count": 54,
     "metadata": {},
     "output_type": "execute_result"
    }
   ],
   "source": [
    "#查看最佳参数\n",
    "rfccv.best_params_"
   ]
  },
  {
   "cell_type": "code",
   "execution_count": null,
   "metadata": {},
   "outputs": [],
   "source": []
  },
  {
   "cell_type": "code",
   "execution_count": null,
   "metadata": {},
   "outputs": [],
   "source": []
  },
  {
   "cell_type": "code",
   "execution_count": null,
   "metadata": {},
   "outputs": [],
   "source": []
  }
 ],
 "metadata": {
  "kernelspec": {
   "display_name": "Python 3",
   "language": "python",
   "name": "python3"
  },
  "language_info": {
   "codemirror_mode": {
    "name": "ipython",
    "version": 3
   },
   "file_extension": ".py",
   "mimetype": "text/x-python",
   "name": "python",
   "nbconvert_exporter": "python",
   "pygments_lexer": "ipython3",
   "version": "3.7.4"
  },
  "widgets": {
   "application/vnd.jupyter.widget-state+json": {
    "state": {},
    "version_major": 2,
    "version_minor": 0
   }
  }
 },
 "nbformat": 4,
 "nbformat_minor": 2
}
